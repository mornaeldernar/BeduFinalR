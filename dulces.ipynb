{
  "nbformat": 4,
  "nbformat_minor": 0,
  "metadata": {
    "colab": {
      "provenance": [],
      "collapsed_sections": [
        "Dx8p6Pdgl_hr"
      ],
      "include_colab_link": true
    },
    "kernelspec": {
      "name": "python3",
      "display_name": "Python 3"
    },
    "language_info": {
      "name": "python"
    }
  },
  "cells": [
    {
      "cell_type": "markdown",
      "metadata": {
        "id": "view-in-github",
        "colab_type": "text"
      },
      "source": [
        "<a href=\"https://colab.research.google.com/github/mornaeldernar/BeduFinalR/blob/rafa/dulces.ipynb\" target=\"_parent\"><img src=\"https://colab.research.google.com/assets/colab-badge.svg\" alt=\"Open In Colab\"/></a>"
      ]
    },
    {
      "cell_type": "markdown",
      "source": [
        "## Equipo 18\n",
        "- Alef Gama\n",
        "- Arturo Solís\n",
        "- Jacob Muñoz\n",
        "- Javier Castillo\n",
        "- Rafael Jiménez"
      ],
      "metadata": {
        "id": "gCiF4EBel_pm"
      }
    },
    {
      "cell_type": "markdown",
      "source": [
        "# Identificación del problema"
      ],
      "metadata": {
        "id": "6z-7Utv-l_ms"
      }
    },
    {
      "cell_type": "markdown",
      "source": [
        "Debido a que se acerca Halloween, nos surgió la duda de que dulces son los que mas le gustan a las personas. Entonces analizaremos cuales son los dulces que más gustan."
      ],
      "metadata": {
        "id": "dF6vdtSil_kN"
      }
    },
    {
      "cell_type": "markdown",
      "source": [
        "# Planteamiento de preguntas"
      ],
      "metadata": {
        "id": "Dx8p6Pdgl_hr"
      }
    },
    {
      "cell_type": "markdown",
      "source": [
        "* ¿Cuál es el dulce que más le gusta a las personas?\n",
        "* ¿Hay dulces que le gusten más a cierto rango de edad?\n",
        "* ¿Cuál dulce le gusta más a los hombres?\n",
        "* ¿Cuál dulce le gusta más a las mujeres?\n",
        "* ¿Cuales son el top 5 de dulces en estados unidos?\n",
        "* ¿Podremos obtener información de los dulces de otros paises?\n"
      ],
      "metadata": {
        "id": "kO49TdYOl_e-"
      }
    },
    {
      "cell_type": "markdown",
      "source": [
        "# Recolección de datos"
      ],
      "metadata": {
        "id": "vl0mqaLXl_b9"
      }
    },
    {
      "cell_type": "markdown",
      "source": [
        "Estuvimos buscando datos que nos ayudaran a resolver las preguntas planteadas y encontramos una página que se dedicó a hacer encuestas sobre los dulces en 2017 https://www.scq.ubc.ca/so-much-candy-data-seriously/ "
      ],
      "metadata": {
        "id": "rQIkYmEMnMPm"
      }
    },
    {
      "cell_type": "markdown",
      "source": [
        "|||\n",
        "| --- | :---|\n",
        "|**Archivo CSV:** | https://www.scq.ubc.ca/wp-content/uploads/2017/10/candyhierarchy2017.csv |\n",
        "|**Archivo XLSX:** | https://www.scq.ubc.ca/wp-content/uploads/2017/10/candyhierarchy2017.xlsx |\n",
        "|**Encuesta:** | https://www.scq.ubc.ca/wp-content/uploads/2017/10/candyhierarchysurvey2017.pdf |\n",
        "|**Fuente:** | https://www.scq.ubc.ca/so-much-candy-data-seriously/ |"
      ],
      "metadata": {
        "id": "TUEErmpCnMNI"
      }
    },
    {
      "cell_type": "markdown",
      "source": [],
      "metadata": {
        "id": "bY2sfDICnMJ9"
      }
    },
    {
      "cell_type": "markdown",
      "source": [],
      "metadata": {
        "id": "SSc-gHpXnMDd"
      }
    },
    {
      "cell_type": "markdown",
      "source": [],
      "metadata": {
        "id": "zCs9f_9xnL-o"
      }
    },
    {
      "cell_type": "markdown",
      "source": [
        "## Importando librerias"
      ],
      "metadata": {
        "id": "TXi07QLJnL8S"
      }
    },
    {
      "cell_type": "code",
      "execution_count": null,
      "metadata": {
        "id": "ZQpufhc-oreV"
      },
      "outputs": [],
      "source": [
        "import pandas as pd\n",
        "import numpy as np"
      ]
    },
    {
      "cell_type": "markdown",
      "source": [
        "## Carga de nuestro conjunto de datos"
      ],
      "metadata": {
        "id": "TkS8bw9AoIWu"
      }
    },
    {
      "cell_type": "code",
      "source": [
        "df = pd.read_csv('candyhierarchy2017.csv', encoding = \"ISO-8859-1\")"
      ],
      "metadata": {
        "id": "gmKDOXJ6p8ZR"
      },
      "execution_count": null,
      "outputs": []
    },
    {
      "cell_type": "markdown",
      "source": [
        "# Análisis exploratorio de datos\n",
        "Visualizamos los datos para darnos una idea de como estan\n",
        "\n",
        "\n"
      ],
      "metadata": {
        "id": "0uK-88gvpRKW"
      }
    },
    {
      "cell_type": "code",
      "source": [
        "df.head()"
      ],
      "metadata": {
        "colab": {
          "base_uri": "https://localhost:8080/",
          "height": 542
        },
        "id": "ckkl9xYnr7ny",
        "outputId": "e004be1e-53b8-4c0b-dfe4-a3d18c729541"
      },
      "execution_count": null,
      "outputs": [
        {
          "output_type": "execute_result",
          "data": {
            "text/plain": [
              "   Internal ID Q1: GOING OUT? Q2: GENDER Q3: AGE Q4: COUNTRY  \\\n",
              "0     90258773            NaN        NaN     NaN         NaN   \n",
              "1     90272821             No       Male      44        USA    \n",
              "2     90272829            NaN       Male      49         USA   \n",
              "3     90272840             No       Male      40          us   \n",
              "4     90272841             No       Male      23         usa   \n",
              "\n",
              "  Q5: STATE, PROVINCE, COUNTY, ETC Q6 | 100 Grand Bar  \\\n",
              "0                              NaN                NaN   \n",
              "1                               NM                MEH   \n",
              "2                         Virginia                NaN   \n",
              "3                               or                MEH   \n",
              "4                         exton pa                JOY   \n",
              "\n",
              "  Q6 | Anonymous brown globs that come in black and orange wrappers\\t(a.k.a. Mary Janes)  \\\n",
              "0                                                NaN                                       \n",
              "1                                            DESPAIR                                       \n",
              "2                                                NaN                                       \n",
              "3                                            DESPAIR                                       \n",
              "4                                            DESPAIR                                       \n",
              "\n",
              "  Q6 | Any full-sized candy bar Q6 | Black Jacks  ... Q8: DESPAIR OTHER  \\\n",
              "0                           NaN              NaN  ...               NaN   \n",
              "1                           JOY              MEH  ...               NaN   \n",
              "2                           NaN              NaN  ...               NaN   \n",
              "3                           JOY              MEH  ...               NaN   \n",
              "4                           JOY          DESPAIR  ...               NaN   \n",
              "\n",
              "                                  Q9: OTHER COMMENTS      Q10: DRESS  \\\n",
              "0                                                NaN             NaN   \n",
              "1  Bottom line is Twix is really the only candy w...  White and gold   \n",
              "2                                                NaN             NaN   \n",
              "3                             Raisins can go to hell  White and gold   \n",
              "4                                                NaN  White and gold   \n",
              "\n",
              "  Unnamed: 113 Q11: DAY Q12: MEDIA [Daily Dish] Q12: MEDIA [Science]  \\\n",
              "0          NaN      NaN                     NaN                  NaN   \n",
              "1          NaN   Sunday                     NaN                  1.0   \n",
              "2          NaN      NaN                     NaN                  NaN   \n",
              "3          NaN   Sunday                     NaN                  1.0   \n",
              "4          NaN   Friday                     NaN                  1.0   \n",
              "\n",
              "  Q12: MEDIA [ESPN] Q12: MEDIA [Yahoo] Click Coordinates (x, y)  \n",
              "0               NaN                NaN                      NaN  \n",
              "1               NaN                NaN                 (84, 25)  \n",
              "2               NaN                NaN                      NaN  \n",
              "3               NaN                NaN                 (75, 23)  \n",
              "4               NaN                NaN                 (70, 10)  \n",
              "\n",
              "[5 rows x 120 columns]"
            ],
            "text/html": [
              "\n",
              "  <div id=\"df-206ec5cd-3630-4900-84f9-0c356cd945cc\">\n",
              "    <div class=\"colab-df-container\">\n",
              "      <div>\n",
              "<style scoped>\n",
              "    .dataframe tbody tr th:only-of-type {\n",
              "        vertical-align: middle;\n",
              "    }\n",
              "\n",
              "    .dataframe tbody tr th {\n",
              "        vertical-align: top;\n",
              "    }\n",
              "\n",
              "    .dataframe thead th {\n",
              "        text-align: right;\n",
              "    }\n",
              "</style>\n",
              "<table border=\"1\" class=\"dataframe\">\n",
              "  <thead>\n",
              "    <tr style=\"text-align: right;\">\n",
              "      <th></th>\n",
              "      <th>Internal ID</th>\n",
              "      <th>Q1: GOING OUT?</th>\n",
              "      <th>Q2: GENDER</th>\n",
              "      <th>Q3: AGE</th>\n",
              "      <th>Q4: COUNTRY</th>\n",
              "      <th>Q5: STATE, PROVINCE, COUNTY, ETC</th>\n",
              "      <th>Q6 | 100 Grand Bar</th>\n",
              "      <th>Q6 | Anonymous brown globs that come in black and orange wrappers\\t(a.k.a. Mary Janes)</th>\n",
              "      <th>Q6 | Any full-sized candy bar</th>\n",
              "      <th>Q6 | Black Jacks</th>\n",
              "      <th>...</th>\n",
              "      <th>Q8: DESPAIR OTHER</th>\n",
              "      <th>Q9: OTHER COMMENTS</th>\n",
              "      <th>Q10: DRESS</th>\n",
              "      <th>Unnamed: 113</th>\n",
              "      <th>Q11: DAY</th>\n",
              "      <th>Q12: MEDIA [Daily Dish]</th>\n",
              "      <th>Q12: MEDIA [Science]</th>\n",
              "      <th>Q12: MEDIA [ESPN]</th>\n",
              "      <th>Q12: MEDIA [Yahoo]</th>\n",
              "      <th>Click Coordinates (x, y)</th>\n",
              "    </tr>\n",
              "  </thead>\n",
              "  <tbody>\n",
              "    <tr>\n",
              "      <th>0</th>\n",
              "      <td>90258773</td>\n",
              "      <td>NaN</td>\n",
              "      <td>NaN</td>\n",
              "      <td>NaN</td>\n",
              "      <td>NaN</td>\n",
              "      <td>NaN</td>\n",
              "      <td>NaN</td>\n",
              "      <td>NaN</td>\n",
              "      <td>NaN</td>\n",
              "      <td>NaN</td>\n",
              "      <td>...</td>\n",
              "      <td>NaN</td>\n",
              "      <td>NaN</td>\n",
              "      <td>NaN</td>\n",
              "      <td>NaN</td>\n",
              "      <td>NaN</td>\n",
              "      <td>NaN</td>\n",
              "      <td>NaN</td>\n",
              "      <td>NaN</td>\n",
              "      <td>NaN</td>\n",
              "      <td>NaN</td>\n",
              "    </tr>\n",
              "    <tr>\n",
              "      <th>1</th>\n",
              "      <td>90272821</td>\n",
              "      <td>No</td>\n",
              "      <td>Male</td>\n",
              "      <td>44</td>\n",
              "      <td>USA</td>\n",
              "      <td>NM</td>\n",
              "      <td>MEH</td>\n",
              "      <td>DESPAIR</td>\n",
              "      <td>JOY</td>\n",
              "      <td>MEH</td>\n",
              "      <td>...</td>\n",
              "      <td>NaN</td>\n",
              "      <td>Bottom line is Twix is really the only candy w...</td>\n",
              "      <td>White and gold</td>\n",
              "      <td>NaN</td>\n",
              "      <td>Sunday</td>\n",
              "      <td>NaN</td>\n",
              "      <td>1.0</td>\n",
              "      <td>NaN</td>\n",
              "      <td>NaN</td>\n",
              "      <td>(84, 25)</td>\n",
              "    </tr>\n",
              "    <tr>\n",
              "      <th>2</th>\n",
              "      <td>90272829</td>\n",
              "      <td>NaN</td>\n",
              "      <td>Male</td>\n",
              "      <td>49</td>\n",
              "      <td>USA</td>\n",
              "      <td>Virginia</td>\n",
              "      <td>NaN</td>\n",
              "      <td>NaN</td>\n",
              "      <td>NaN</td>\n",
              "      <td>NaN</td>\n",
              "      <td>...</td>\n",
              "      <td>NaN</td>\n",
              "      <td>NaN</td>\n",
              "      <td>NaN</td>\n",
              "      <td>NaN</td>\n",
              "      <td>NaN</td>\n",
              "      <td>NaN</td>\n",
              "      <td>NaN</td>\n",
              "      <td>NaN</td>\n",
              "      <td>NaN</td>\n",
              "      <td>NaN</td>\n",
              "    </tr>\n",
              "    <tr>\n",
              "      <th>3</th>\n",
              "      <td>90272840</td>\n",
              "      <td>No</td>\n",
              "      <td>Male</td>\n",
              "      <td>40</td>\n",
              "      <td>us</td>\n",
              "      <td>or</td>\n",
              "      <td>MEH</td>\n",
              "      <td>DESPAIR</td>\n",
              "      <td>JOY</td>\n",
              "      <td>MEH</td>\n",
              "      <td>...</td>\n",
              "      <td>NaN</td>\n",
              "      <td>Raisins can go to hell</td>\n",
              "      <td>White and gold</td>\n",
              "      <td>NaN</td>\n",
              "      <td>Sunday</td>\n",
              "      <td>NaN</td>\n",
              "      <td>1.0</td>\n",
              "      <td>NaN</td>\n",
              "      <td>NaN</td>\n",
              "      <td>(75, 23)</td>\n",
              "    </tr>\n",
              "    <tr>\n",
              "      <th>4</th>\n",
              "      <td>90272841</td>\n",
              "      <td>No</td>\n",
              "      <td>Male</td>\n",
              "      <td>23</td>\n",
              "      <td>usa</td>\n",
              "      <td>exton pa</td>\n",
              "      <td>JOY</td>\n",
              "      <td>DESPAIR</td>\n",
              "      <td>JOY</td>\n",
              "      <td>DESPAIR</td>\n",
              "      <td>...</td>\n",
              "      <td>NaN</td>\n",
              "      <td>NaN</td>\n",
              "      <td>White and gold</td>\n",
              "      <td>NaN</td>\n",
              "      <td>Friday</td>\n",
              "      <td>NaN</td>\n",
              "      <td>1.0</td>\n",
              "      <td>NaN</td>\n",
              "      <td>NaN</td>\n",
              "      <td>(70, 10)</td>\n",
              "    </tr>\n",
              "  </tbody>\n",
              "</table>\n",
              "<p>5 rows × 120 columns</p>\n",
              "</div>\n",
              "      <button class=\"colab-df-convert\" onclick=\"convertToInteractive('df-206ec5cd-3630-4900-84f9-0c356cd945cc')\"\n",
              "              title=\"Convert this dataframe to an interactive table.\"\n",
              "              style=\"display:none;\">\n",
              "        \n",
              "  <svg xmlns=\"http://www.w3.org/2000/svg\" height=\"24px\"viewBox=\"0 0 24 24\"\n",
              "       width=\"24px\">\n",
              "    <path d=\"M0 0h24v24H0V0z\" fill=\"none\"/>\n",
              "    <path d=\"M18.56 5.44l.94 2.06.94-2.06 2.06-.94-2.06-.94-.94-2.06-.94 2.06-2.06.94zm-11 1L8.5 8.5l.94-2.06 2.06-.94-2.06-.94L8.5 2.5l-.94 2.06-2.06.94zm10 10l.94 2.06.94-2.06 2.06-.94-2.06-.94-.94-2.06-.94 2.06-2.06.94z\"/><path d=\"M17.41 7.96l-1.37-1.37c-.4-.4-.92-.59-1.43-.59-.52 0-1.04.2-1.43.59L10.3 9.45l-7.72 7.72c-.78.78-.78 2.05 0 2.83L4 21.41c.39.39.9.59 1.41.59.51 0 1.02-.2 1.41-.59l7.78-7.78 2.81-2.81c.8-.78.8-2.07 0-2.86zM5.41 20L4 18.59l7.72-7.72 1.47 1.35L5.41 20z\"/>\n",
              "  </svg>\n",
              "      </button>\n",
              "      \n",
              "  <style>\n",
              "    .colab-df-container {\n",
              "      display:flex;\n",
              "      flex-wrap:wrap;\n",
              "      gap: 12px;\n",
              "    }\n",
              "\n",
              "    .colab-df-convert {\n",
              "      background-color: #E8F0FE;\n",
              "      border: none;\n",
              "      border-radius: 50%;\n",
              "      cursor: pointer;\n",
              "      display: none;\n",
              "      fill: #1967D2;\n",
              "      height: 32px;\n",
              "      padding: 0 0 0 0;\n",
              "      width: 32px;\n",
              "    }\n",
              "\n",
              "    .colab-df-convert:hover {\n",
              "      background-color: #E2EBFA;\n",
              "      box-shadow: 0px 1px 2px rgba(60, 64, 67, 0.3), 0px 1px 3px 1px rgba(60, 64, 67, 0.15);\n",
              "      fill: #174EA6;\n",
              "    }\n",
              "\n",
              "    [theme=dark] .colab-df-convert {\n",
              "      background-color: #3B4455;\n",
              "      fill: #D2E3FC;\n",
              "    }\n",
              "\n",
              "    [theme=dark] .colab-df-convert:hover {\n",
              "      background-color: #434B5C;\n",
              "      box-shadow: 0px 1px 3px 1px rgba(0, 0, 0, 0.15);\n",
              "      filter: drop-shadow(0px 1px 2px rgba(0, 0, 0, 0.3));\n",
              "      fill: #FFFFFF;\n",
              "    }\n",
              "  </style>\n",
              "\n",
              "      <script>\n",
              "        const buttonEl =\n",
              "          document.querySelector('#df-206ec5cd-3630-4900-84f9-0c356cd945cc button.colab-df-convert');\n",
              "        buttonEl.style.display =\n",
              "          google.colab.kernel.accessAllowed ? 'block' : 'none';\n",
              "\n",
              "        async function convertToInteractive(key) {\n",
              "          const element = document.querySelector('#df-206ec5cd-3630-4900-84f9-0c356cd945cc');\n",
              "          const dataTable =\n",
              "            await google.colab.kernel.invokeFunction('convertToInteractive',\n",
              "                                                     [key], {});\n",
              "          if (!dataTable) return;\n",
              "\n",
              "          const docLinkHtml = 'Like what you see? Visit the ' +\n",
              "            '<a target=\"_blank\" href=https://colab.research.google.com/notebooks/data_table.ipynb>data table notebook</a>'\n",
              "            + ' to learn more about interactive tables.';\n",
              "          element.innerHTML = '';\n",
              "          dataTable['output_type'] = 'display_data';\n",
              "          await google.colab.output.renderOutput(dataTable, element);\n",
              "          const docLink = document.createElement('div');\n",
              "          docLink.innerHTML = docLinkHtml;\n",
              "          element.appendChild(docLink);\n",
              "        }\n",
              "      </script>\n",
              "    </div>\n",
              "  </div>\n",
              "  "
            ]
          },
          "metadata": {},
          "execution_count": 939
        }
      ]
    },
    {
      "cell_type": "code",
      "source": [
        "df.shape"
      ],
      "metadata": {
        "colab": {
          "base_uri": "https://localhost:8080/"
        },
        "id": "acUmRLl0pZKR",
        "outputId": "7fc7272f-3f6f-4680-f1d5-40004ae33bc5"
      },
      "execution_count": null,
      "outputs": [
        {
          "output_type": "execute_result",
          "data": {
            "text/plain": [
              "(2460, 120)"
            ]
          },
          "metadata": {},
          "execution_count": 940
        }
      ]
    },
    {
      "cell_type": "code",
      "source": [
        "df['Unnamed: 113'].isna().sum()"
      ],
      "metadata": {
        "colab": {
          "base_uri": "https://localhost:8080/"
        },
        "id": "uyIDeZoUxzhS",
        "outputId": "2aca36ec-aeef-4279-d8ac-e8948fd9f99b"
      },
      "execution_count": null,
      "outputs": [
        {
          "output_type": "execute_result",
          "data": {
            "text/plain": [
              "2451"
            ]
          },
          "metadata": {},
          "execution_count": 941
        }
      ]
    },
    {
      "cell_type": "code",
      "source": [
        "df['Q12: MEDIA [Daily Dish]'].isna().sum()"
      ],
      "metadata": {
        "colab": {
          "base_uri": "https://localhost:8080/"
        },
        "id": "msvFz2gryT87",
        "outputId": "232b62d7-ed0e-4d57-bc79-1343dc6cbf2d"
      },
      "execution_count": null,
      "outputs": [
        {
          "output_type": "execute_result",
          "data": {
            "text/plain": [
              "2375"
            ]
          },
          "metadata": {},
          "execution_count": 942
        }
      ]
    },
    {
      "cell_type": "code",
      "source": [
        "df['Q12: MEDIA [Science]'].isna().sum()"
      ],
      "metadata": {
        "colab": {
          "base_uri": "https://localhost:8080/"
        },
        "id": "CfHma9Q1yT1x",
        "outputId": "9590a2e5-afb5-4181-9071-a015cae96f93"
      },
      "execution_count": null,
      "outputs": [
        {
          "output_type": "execute_result",
          "data": {
            "text/plain": [
              "1098"
            ]
          },
          "metadata": {},
          "execution_count": 943
        }
      ]
    },
    {
      "cell_type": "code",
      "source": [
        "df['Q12: MEDIA [ESPN]'].isna().sum()"
      ],
      "metadata": {
        "colab": {
          "base_uri": "https://localhost:8080/"
        },
        "id": "1ZuGbEYnyTda",
        "outputId": "54c69e58-a6f4-4d49-ee85-c2202b20ce78"
      },
      "execution_count": null,
      "outputs": [
        {
          "output_type": "execute_result",
          "data": {
            "text/plain": [
              "2361"
            ]
          },
          "metadata": {},
          "execution_count": 944
        }
      ]
    },
    {
      "cell_type": "code",
      "source": [
        "df['Q12: MEDIA [Yahoo]'].isna().sum()"
      ],
      "metadata": {
        "colab": {
          "base_uri": "https://localhost:8080/"
        },
        "id": "PcSU8aYQyooE",
        "outputId": "8743e268-727f-4623-8926-560d6fee2c7d"
      },
      "execution_count": null,
      "outputs": [
        {
          "output_type": "execute_result",
          "data": {
            "text/plain": [
              "2393"
            ]
          },
          "metadata": {},
          "execution_count": 945
        }
      ]
    },
    {
      "cell_type": "code",
      "source": [
        "df['Q7: JOY OTHER'].isna().sum()"
      ],
      "metadata": {
        "colab": {
          "base_uri": "https://localhost:8080/"
        },
        "id": "OI-ABld_0gea",
        "outputId": "9d4997f2-3a62-4f8a-9bae-83f09d9b35df"
      },
      "execution_count": null,
      "outputs": [
        {
          "output_type": "execute_result",
          "data": {
            "text/plain": [
              "1549"
            ]
          },
          "metadata": {},
          "execution_count": 946
        }
      ]
    },
    {
      "cell_type": "code",
      "source": [
        "df['Q8: DESPAIR OTHER'].isna().sum()"
      ],
      "metadata": {
        "colab": {
          "base_uri": "https://localhost:8080/"
        },
        "id": "jpzXx22uzwSS",
        "outputId": "bf169116-cd15-41f6-a14b-76a80700e31d"
      },
      "execution_count": null,
      "outputs": [
        {
          "output_type": "execute_result",
          "data": {
            "text/plain": [
              "1743"
            ]
          },
          "metadata": {},
          "execution_count": 947
        }
      ]
    },
    {
      "cell_type": "code",
      "source": [
        "df['Q9: OTHER COMMENTS'].isna().sum()"
      ],
      "metadata": {
        "colab": {
          "base_uri": "https://localhost:8080/"
        },
        "id": "5wp9lF8Mz2YV",
        "outputId": "07ea0497-1161-4f12-de1d-23ec439a8a4a"
      },
      "execution_count": null,
      "outputs": [
        {
          "output_type": "execute_result",
          "data": {
            "text/plain": [
              "2074"
            ]
          },
          "metadata": {},
          "execution_count": 948
        }
      ]
    },
    {
      "cell_type": "markdown",
      "source": [
        "Eliminamos el internal id y Unnamed:113 que es la imagen de un vestido(no es una pregunta en realidad), y las preguntas q7,q8,q9 son preguntas abiertas."
      ],
      "metadata": {
        "id": "U9_uJn9Sqy1q"
      }
    },
    {
      "cell_type": "code",
      "source": [
        "df.drop(columns=['Internal ID','Unnamed: 113','Q9: OTHER COMMENTS','Q8: DESPAIR OTHER','Q7: JOY OTHER'], inplace=True)"
      ],
      "metadata": {
        "id": "KiCUcGWzq1XQ"
      },
      "execution_count": null,
      "outputs": []
    },
    {
      "cell_type": "code",
      "source": [
        "df.head()"
      ],
      "metadata": {
        "colab": {
          "base_uri": "https://localhost:8080/",
          "height": 490
        },
        "id": "JgbAtIle0Oh6",
        "outputId": "2a107d1f-0247-42bd-9f8a-c1d51e607501"
      },
      "execution_count": null,
      "outputs": [
        {
          "output_type": "execute_result",
          "data": {
            "text/plain": [
              "  Q1: GOING OUT? Q2: GENDER Q3: AGE Q4: COUNTRY  \\\n",
              "0            NaN        NaN     NaN         NaN   \n",
              "1             No       Male      44        USA    \n",
              "2            NaN       Male      49         USA   \n",
              "3             No       Male      40          us   \n",
              "4             No       Male      23         usa   \n",
              "\n",
              "  Q5: STATE, PROVINCE, COUNTY, ETC Q6 | 100 Grand Bar  \\\n",
              "0                              NaN                NaN   \n",
              "1                               NM                MEH   \n",
              "2                         Virginia                NaN   \n",
              "3                               or                MEH   \n",
              "4                         exton pa                JOY   \n",
              "\n",
              "  Q6 | Anonymous brown globs that come in black and orange wrappers\\t(a.k.a. Mary Janes)  \\\n",
              "0                                                NaN                                       \n",
              "1                                            DESPAIR                                       \n",
              "2                                                NaN                                       \n",
              "3                                            DESPAIR                                       \n",
              "4                                            DESPAIR                                       \n",
              "\n",
              "  Q6 | Any full-sized candy bar Q6 | Black Jacks Q6 | Bonkers (the candy)  \\\n",
              "0                           NaN              NaN                      NaN   \n",
              "1                           JOY              MEH                  DESPAIR   \n",
              "2                           NaN              NaN                      NaN   \n",
              "3                           JOY              MEH                      MEH   \n",
              "4                           JOY          DESPAIR                      MEH   \n",
              "\n",
              "   ... Q6 | White Bread Q6 | Whole Wheat anything  \\\n",
              "0  ...              NaN                       NaN   \n",
              "1  ...          DESPAIR                   DESPAIR   \n",
              "2  ...              NaN                       NaN   \n",
              "3  ...          DESPAIR                   DESPAIR   \n",
              "4  ...          DESPAIR                   DESPAIR   \n",
              "\n",
              "  Q6 | York Peppermint Patties      Q10: DRESS Q11: DAY  \\\n",
              "0                          NaN             NaN      NaN   \n",
              "1                      DESPAIR  White and gold   Sunday   \n",
              "2                          NaN             NaN      NaN   \n",
              "3                      DESPAIR  White and gold   Sunday   \n",
              "4                          JOY  White and gold   Friday   \n",
              "\n",
              "  Q12: MEDIA [Daily Dish] Q12: MEDIA [Science] Q12: MEDIA [ESPN]  \\\n",
              "0                     NaN                  NaN               NaN   \n",
              "1                     NaN                  1.0               NaN   \n",
              "2                     NaN                  NaN               NaN   \n",
              "3                     NaN                  1.0               NaN   \n",
              "4                     NaN                  1.0               NaN   \n",
              "\n",
              "  Q12: MEDIA [Yahoo] Click Coordinates (x, y)  \n",
              "0                NaN                      NaN  \n",
              "1                NaN                 (84, 25)  \n",
              "2                NaN                      NaN  \n",
              "3                NaN                 (75, 23)  \n",
              "4                NaN                 (70, 10)  \n",
              "\n",
              "[5 rows x 115 columns]"
            ],
            "text/html": [
              "\n",
              "  <div id=\"df-7c8e1223-1c4d-49fe-975d-a02a19184a80\">\n",
              "    <div class=\"colab-df-container\">\n",
              "      <div>\n",
              "<style scoped>\n",
              "    .dataframe tbody tr th:only-of-type {\n",
              "        vertical-align: middle;\n",
              "    }\n",
              "\n",
              "    .dataframe tbody tr th {\n",
              "        vertical-align: top;\n",
              "    }\n",
              "\n",
              "    .dataframe thead th {\n",
              "        text-align: right;\n",
              "    }\n",
              "</style>\n",
              "<table border=\"1\" class=\"dataframe\">\n",
              "  <thead>\n",
              "    <tr style=\"text-align: right;\">\n",
              "      <th></th>\n",
              "      <th>Q1: GOING OUT?</th>\n",
              "      <th>Q2: GENDER</th>\n",
              "      <th>Q3: AGE</th>\n",
              "      <th>Q4: COUNTRY</th>\n",
              "      <th>Q5: STATE, PROVINCE, COUNTY, ETC</th>\n",
              "      <th>Q6 | 100 Grand Bar</th>\n",
              "      <th>Q6 | Anonymous brown globs that come in black and orange wrappers\\t(a.k.a. Mary Janes)</th>\n",
              "      <th>Q6 | Any full-sized candy bar</th>\n",
              "      <th>Q6 | Black Jacks</th>\n",
              "      <th>Q6 | Bonkers (the candy)</th>\n",
              "      <th>...</th>\n",
              "      <th>Q6 | White Bread</th>\n",
              "      <th>Q6 | Whole Wheat anything</th>\n",
              "      <th>Q6 | York Peppermint Patties</th>\n",
              "      <th>Q10: DRESS</th>\n",
              "      <th>Q11: DAY</th>\n",
              "      <th>Q12: MEDIA [Daily Dish]</th>\n",
              "      <th>Q12: MEDIA [Science]</th>\n",
              "      <th>Q12: MEDIA [ESPN]</th>\n",
              "      <th>Q12: MEDIA [Yahoo]</th>\n",
              "      <th>Click Coordinates (x, y)</th>\n",
              "    </tr>\n",
              "  </thead>\n",
              "  <tbody>\n",
              "    <tr>\n",
              "      <th>0</th>\n",
              "      <td>NaN</td>\n",
              "      <td>NaN</td>\n",
              "      <td>NaN</td>\n",
              "      <td>NaN</td>\n",
              "      <td>NaN</td>\n",
              "      <td>NaN</td>\n",
              "      <td>NaN</td>\n",
              "      <td>NaN</td>\n",
              "      <td>NaN</td>\n",
              "      <td>NaN</td>\n",
              "      <td>...</td>\n",
              "      <td>NaN</td>\n",
              "      <td>NaN</td>\n",
              "      <td>NaN</td>\n",
              "      <td>NaN</td>\n",
              "      <td>NaN</td>\n",
              "      <td>NaN</td>\n",
              "      <td>NaN</td>\n",
              "      <td>NaN</td>\n",
              "      <td>NaN</td>\n",
              "      <td>NaN</td>\n",
              "    </tr>\n",
              "    <tr>\n",
              "      <th>1</th>\n",
              "      <td>No</td>\n",
              "      <td>Male</td>\n",
              "      <td>44</td>\n",
              "      <td>USA</td>\n",
              "      <td>NM</td>\n",
              "      <td>MEH</td>\n",
              "      <td>DESPAIR</td>\n",
              "      <td>JOY</td>\n",
              "      <td>MEH</td>\n",
              "      <td>DESPAIR</td>\n",
              "      <td>...</td>\n",
              "      <td>DESPAIR</td>\n",
              "      <td>DESPAIR</td>\n",
              "      <td>DESPAIR</td>\n",
              "      <td>White and gold</td>\n",
              "      <td>Sunday</td>\n",
              "      <td>NaN</td>\n",
              "      <td>1.0</td>\n",
              "      <td>NaN</td>\n",
              "      <td>NaN</td>\n",
              "      <td>(84, 25)</td>\n",
              "    </tr>\n",
              "    <tr>\n",
              "      <th>2</th>\n",
              "      <td>NaN</td>\n",
              "      <td>Male</td>\n",
              "      <td>49</td>\n",
              "      <td>USA</td>\n",
              "      <td>Virginia</td>\n",
              "      <td>NaN</td>\n",
              "      <td>NaN</td>\n",
              "      <td>NaN</td>\n",
              "      <td>NaN</td>\n",
              "      <td>NaN</td>\n",
              "      <td>...</td>\n",
              "      <td>NaN</td>\n",
              "      <td>NaN</td>\n",
              "      <td>NaN</td>\n",
              "      <td>NaN</td>\n",
              "      <td>NaN</td>\n",
              "      <td>NaN</td>\n",
              "      <td>NaN</td>\n",
              "      <td>NaN</td>\n",
              "      <td>NaN</td>\n",
              "      <td>NaN</td>\n",
              "    </tr>\n",
              "    <tr>\n",
              "      <th>3</th>\n",
              "      <td>No</td>\n",
              "      <td>Male</td>\n",
              "      <td>40</td>\n",
              "      <td>us</td>\n",
              "      <td>or</td>\n",
              "      <td>MEH</td>\n",
              "      <td>DESPAIR</td>\n",
              "      <td>JOY</td>\n",
              "      <td>MEH</td>\n",
              "      <td>MEH</td>\n",
              "      <td>...</td>\n",
              "      <td>DESPAIR</td>\n",
              "      <td>DESPAIR</td>\n",
              "      <td>DESPAIR</td>\n",
              "      <td>White and gold</td>\n",
              "      <td>Sunday</td>\n",
              "      <td>NaN</td>\n",
              "      <td>1.0</td>\n",
              "      <td>NaN</td>\n",
              "      <td>NaN</td>\n",
              "      <td>(75, 23)</td>\n",
              "    </tr>\n",
              "    <tr>\n",
              "      <th>4</th>\n",
              "      <td>No</td>\n",
              "      <td>Male</td>\n",
              "      <td>23</td>\n",
              "      <td>usa</td>\n",
              "      <td>exton pa</td>\n",
              "      <td>JOY</td>\n",
              "      <td>DESPAIR</td>\n",
              "      <td>JOY</td>\n",
              "      <td>DESPAIR</td>\n",
              "      <td>MEH</td>\n",
              "      <td>...</td>\n",
              "      <td>DESPAIR</td>\n",
              "      <td>DESPAIR</td>\n",
              "      <td>JOY</td>\n",
              "      <td>White and gold</td>\n",
              "      <td>Friday</td>\n",
              "      <td>NaN</td>\n",
              "      <td>1.0</td>\n",
              "      <td>NaN</td>\n",
              "      <td>NaN</td>\n",
              "      <td>(70, 10)</td>\n",
              "    </tr>\n",
              "  </tbody>\n",
              "</table>\n",
              "<p>5 rows × 115 columns</p>\n",
              "</div>\n",
              "      <button class=\"colab-df-convert\" onclick=\"convertToInteractive('df-7c8e1223-1c4d-49fe-975d-a02a19184a80')\"\n",
              "              title=\"Convert this dataframe to an interactive table.\"\n",
              "              style=\"display:none;\">\n",
              "        \n",
              "  <svg xmlns=\"http://www.w3.org/2000/svg\" height=\"24px\"viewBox=\"0 0 24 24\"\n",
              "       width=\"24px\">\n",
              "    <path d=\"M0 0h24v24H0V0z\" fill=\"none\"/>\n",
              "    <path d=\"M18.56 5.44l.94 2.06.94-2.06 2.06-.94-2.06-.94-.94-2.06-.94 2.06-2.06.94zm-11 1L8.5 8.5l.94-2.06 2.06-.94-2.06-.94L8.5 2.5l-.94 2.06-2.06.94zm10 10l.94 2.06.94-2.06 2.06-.94-2.06-.94-.94-2.06-.94 2.06-2.06.94z\"/><path d=\"M17.41 7.96l-1.37-1.37c-.4-.4-.92-.59-1.43-.59-.52 0-1.04.2-1.43.59L10.3 9.45l-7.72 7.72c-.78.78-.78 2.05 0 2.83L4 21.41c.39.39.9.59 1.41.59.51 0 1.02-.2 1.41-.59l7.78-7.78 2.81-2.81c.8-.78.8-2.07 0-2.86zM5.41 20L4 18.59l7.72-7.72 1.47 1.35L5.41 20z\"/>\n",
              "  </svg>\n",
              "      </button>\n",
              "      \n",
              "  <style>\n",
              "    .colab-df-container {\n",
              "      display:flex;\n",
              "      flex-wrap:wrap;\n",
              "      gap: 12px;\n",
              "    }\n",
              "\n",
              "    .colab-df-convert {\n",
              "      background-color: #E8F0FE;\n",
              "      border: none;\n",
              "      border-radius: 50%;\n",
              "      cursor: pointer;\n",
              "      display: none;\n",
              "      fill: #1967D2;\n",
              "      height: 32px;\n",
              "      padding: 0 0 0 0;\n",
              "      width: 32px;\n",
              "    }\n",
              "\n",
              "    .colab-df-convert:hover {\n",
              "      background-color: #E2EBFA;\n",
              "      box-shadow: 0px 1px 2px rgba(60, 64, 67, 0.3), 0px 1px 3px 1px rgba(60, 64, 67, 0.15);\n",
              "      fill: #174EA6;\n",
              "    }\n",
              "\n",
              "    [theme=dark] .colab-df-convert {\n",
              "      background-color: #3B4455;\n",
              "      fill: #D2E3FC;\n",
              "    }\n",
              "\n",
              "    [theme=dark] .colab-df-convert:hover {\n",
              "      background-color: #434B5C;\n",
              "      box-shadow: 0px 1px 3px 1px rgba(0, 0, 0, 0.15);\n",
              "      filter: drop-shadow(0px 1px 2px rgba(0, 0, 0, 0.3));\n",
              "      fill: #FFFFFF;\n",
              "    }\n",
              "  </style>\n",
              "\n",
              "      <script>\n",
              "        const buttonEl =\n",
              "          document.querySelector('#df-7c8e1223-1c4d-49fe-975d-a02a19184a80 button.colab-df-convert');\n",
              "        buttonEl.style.display =\n",
              "          google.colab.kernel.accessAllowed ? 'block' : 'none';\n",
              "\n",
              "        async function convertToInteractive(key) {\n",
              "          const element = document.querySelector('#df-7c8e1223-1c4d-49fe-975d-a02a19184a80');\n",
              "          const dataTable =\n",
              "            await google.colab.kernel.invokeFunction('convertToInteractive',\n",
              "                                                     [key], {});\n",
              "          if (!dataTable) return;\n",
              "\n",
              "          const docLinkHtml = 'Like what you see? Visit the ' +\n",
              "            '<a target=\"_blank\" href=https://colab.research.google.com/notebooks/data_table.ipynb>data table notebook</a>'\n",
              "            + ' to learn more about interactive tables.';\n",
              "          element.innerHTML = '';\n",
              "          dataTable['output_type'] = 'display_data';\n",
              "          await google.colab.output.renderOutput(dataTable, element);\n",
              "          const docLink = document.createElement('div');\n",
              "          docLink.innerHTML = docLinkHtml;\n",
              "          element.appendChild(docLink);\n",
              "        }\n",
              "      </script>\n",
              "    </div>\n",
              "  </div>\n",
              "  "
            ]
          },
          "metadata": {},
          "execution_count": 950
        }
      ]
    },
    {
      "cell_type": "code",
      "source": [
        "df.shape"
      ],
      "metadata": {
        "colab": {
          "base_uri": "https://localhost:8080/"
        },
        "id": "tyX1n8jQrBxQ",
        "outputId": "5acb3f3a-d839-47d4-ee8a-ad527210b5e1"
      },
      "execution_count": null,
      "outputs": [
        {
          "output_type": "execute_result",
          "data": {
            "text/plain": [
              "(2460, 115)"
            ]
          },
          "metadata": {},
          "execution_count": 951
        }
      ]
    },
    {
      "cell_type": "code",
      "source": [
        "df.info()"
      ],
      "metadata": {
        "colab": {
          "base_uri": "https://localhost:8080/"
        },
        "id": "9lLpm0ywpclm",
        "outputId": "21828ac8-59c3-452e-9ce8-405a36e24042"
      },
      "execution_count": null,
      "outputs": [
        {
          "output_type": "stream",
          "name": "stdout",
          "text": [
            "<class 'pandas.core.frame.DataFrame'>\n",
            "RangeIndex: 2460 entries, 0 to 2459\n",
            "Columns: 115 entries, Q1: GOING OUT? to Click Coordinates (x, y)\n",
            "dtypes: float64(4), object(111)\n",
            "memory usage: 2.2+ MB\n"
          ]
        }
      ]
    },
    {
      "cell_type": "markdown",
      "source": [
        "Elminamos filas que tengan todos los valores vacios"
      ],
      "metadata": {
        "id": "SmFCBgJ3sNch"
      }
    },
    {
      "cell_type": "code",
      "source": [
        "df.dropna(how=\"all\", inplace=True)"
      ],
      "metadata": {
        "id": "NOTTjnsypcio"
      },
      "execution_count": null,
      "outputs": []
    },
    {
      "cell_type": "code",
      "source": [
        "df.shape"
      ],
      "metadata": {
        "colab": {
          "base_uri": "https://localhost:8080/"
        },
        "id": "JkNHf5bKsKb4",
        "outputId": "3651da5f-fb09-485f-e0bd-d5521116f7ad"
      },
      "execution_count": null,
      "outputs": [
        {
          "output_type": "execute_result",
          "data": {
            "text/plain": [
              "(2439, 115)"
            ]
          },
          "metadata": {},
          "execution_count": 954
        }
      ]
    },
    {
      "cell_type": "markdown",
      "source": [
        "Creamos una funcion que nos evalue el porcentaje de datos vacios en la columnas"
      ],
      "metadata": {
        "id": "rRNYxKm7p36Z"
      }
    },
    {
      "cell_type": "code",
      "source": [
        "def porcentaje_vacios():\n",
        "  porcentaje_vacios = (df.isna().sum()/df.shape[0]*100)\n",
        "  return porcentaje_vacios[porcentaje_vacios>0].sort_values()"
      ],
      "metadata": {
        "id": "17g4-rEppcgT"
      },
      "execution_count": null,
      "outputs": []
    },
    {
      "cell_type": "code",
      "source": [
        "porcentaje_vacios()"
      ],
      "metadata": {
        "colab": {
          "base_uri": "https://localhost:8080/"
        },
        "id": "kRKmiNpYpcdq",
        "outputId": "6ff7cebf-47b8-4c3f-8f86-962b4e4b3183"
      },
      "execution_count": null,
      "outputs": [
        {
          "output_type": "execute_result",
          "data": {
            "text/plain": [
              "Q2: GENDER                           0.820008\n",
              "Q4: COUNTRY                          1.763018\n",
              "Q3: AGE                              2.583026\n",
              "Q5: STATE, PROVINCE, COUNTY, ETC     3.239032\n",
              "Q1: GOING OUT?                       3.649036\n",
              "                                      ...    \n",
              "Q6 | JoyJoy (Mit Iodine!)           41.205412\n",
              "Q12: MEDIA [Science]                44.157442\n",
              "Q12: MEDIA [ESPN]                   95.940959\n",
              "Q12: MEDIA [Daily Dish]             96.514965\n",
              "Q12: MEDIA [Yahoo]                  97.252973\n",
              "Length: 115, dtype: float64"
            ]
          },
          "metadata": {},
          "execution_count": 956
        }
      ]
    },
    {
      "cell_type": "code",
      "source": [
        "columnas = df.columns.to_list()"
      ],
      "metadata": {
        "id": "X6d_oEuZpcRk"
      },
      "execution_count": null,
      "outputs": []
    },
    {
      "cell_type": "markdown",
      "source": [
        "cambiamos el nombre a los encabezados quitantdo el numero de pregunta"
      ],
      "metadata": {
        "id": "Mx582OLtv6sN"
      }
    },
    {
      "cell_type": "code",
      "source": [
        "def new_columns() :\n",
        "  nueva_columna = []\n",
        "  for i in columnas:\n",
        "    if i[2] == ':' :\n",
        "      nueva_columna.append(i[4:])\n",
        "      #print(i[4:])\n",
        "    elif i[3] == ':' or i[3] == '|' :\n",
        "      nueva_columna.append(i[5:])\n",
        "      #print(i[5:])\n",
        "    else:\n",
        "      nueva_columna.append(i)\n",
        "      #print(i)\n",
        "  return nueva_columna\n",
        "df.columns = new_columns()"
      ],
      "metadata": {
        "id": "edwuW0lPpcPW"
      },
      "execution_count": null,
      "outputs": []
    },
    {
      "cell_type": "code",
      "source": [
        "columnas = df.columns[5:].to_list()"
      ],
      "metadata": {
        "id": "IP6BxLplpcM8"
      },
      "execution_count": null,
      "outputs": []
    },
    {
      "cell_type": "code",
      "source": [
        "columnas"
      ],
      "metadata": {
        "colab": {
          "base_uri": "https://localhost:8080/"
        },
        "id": "MvQYt4pEawdc",
        "outputId": "78946f00-8a92-455a-ceb0-bd3a7afdef60"
      },
      "execution_count": null,
      "outputs": [
        {
          "output_type": "execute_result",
          "data": {
            "text/plain": [
              "['100 Grand Bar',\n",
              " 'Anonymous brown globs that come in black and orange wrappers\\t(a.k.a. Mary Janes)',\n",
              " 'Any full-sized candy bar',\n",
              " 'Black Jacks',\n",
              " 'Bonkers (the candy)',\n",
              " 'Bonkers (the board game)',\n",
              " 'Bottle Caps',\n",
              " \"Box'o'Raisins\",\n",
              " 'Broken glow stick',\n",
              " 'Butterfinger',\n",
              " 'Cadbury Creme Eggs',\n",
              " 'Candy Corn',\n",
              " 'Candy that is clearly just the stuff given out for free at restaurants',\n",
              " 'Caramellos',\n",
              " 'Cash, or other forms of legal tender',\n",
              " 'Chardonnay',\n",
              " 'Chick-o-Sticks (we donÕt know what that is)',\n",
              " 'Chiclets',\n",
              " 'Coffee Crisp',\n",
              " 'Creepy Religious comics/Chick Tracts',\n",
              " 'Dental paraphenalia',\n",
              " 'Dots',\n",
              " 'Dove Bars',\n",
              " 'Fuzzy Peaches',\n",
              " 'Generic Brand Acetaminophen',\n",
              " 'Glow sticks',\n",
              " 'Goo Goo Clusters',\n",
              " \"Good N' Plenty\",\n",
              " 'Gum from baseball cards',\n",
              " 'Gummy Bears straight up',\n",
              " 'Hard Candy',\n",
              " 'Healthy Fruit',\n",
              " 'Heath Bar',\n",
              " \"Hershey's Dark Chocolate\",\n",
              " 'HersheyÕs Milk Chocolate',\n",
              " \"Hershey's Kisses\",\n",
              " 'Hugs (actual physical hugs)',\n",
              " 'Jolly Rancher (bad flavor)',\n",
              " 'Jolly Ranchers (good flavor)',\n",
              " 'JoyJoy (Mit Iodine!)',\n",
              " 'Junior Mints',\n",
              " 'Senior Mints',\n",
              " 'Kale smoothie',\n",
              " 'Kinder Happy Hippo',\n",
              " 'Kit Kat',\n",
              " 'LaffyTaffy',\n",
              " 'LemonHeads',\n",
              " 'Licorice (not black)',\n",
              " 'Licorice (yes black)',\n",
              " 'Lindt Truffle',\n",
              " 'Lollipops',\n",
              " 'Mars',\n",
              " 'Maynards',\n",
              " 'Mike and Ike',\n",
              " 'Milk Duds',\n",
              " 'Milky Way',\n",
              " 'Regular M&Ms',\n",
              " 'Peanut M&MÕs',\n",
              " \"Blue M&M's\",\n",
              " \"Red M&M's\",\n",
              " \"Green Party M&M's\",\n",
              " \"Independent M&M's\",\n",
              " \"Abstained from M&M'ing.\",\n",
              " 'Minibags of chips',\n",
              " 'Mint Kisses',\n",
              " 'Mint Juleps',\n",
              " 'Mr. Goodbar',\n",
              " 'Necco Wafers',\n",
              " 'Nerds',\n",
              " 'Nestle Crunch',\n",
              " \"Now'n'Laters\",\n",
              " 'Peeps',\n",
              " 'Pencils',\n",
              " 'Pixy Stix',\n",
              " 'Real Housewives of Orange County Season 9 Blue-Ray',\n",
              " 'ReeseÕs Peanut Butter Cups',\n",
              " \"Reese's Pieces\",\n",
              " 'Reggie Jackson Bar',\n",
              " 'Rolos',\n",
              " 'Sandwich-sized bags filled with BooBerry Crunch',\n",
              " 'Skittles',\n",
              " 'Smarties (American)',\n",
              " 'Smarties (Commonwealth)',\n",
              " 'Snickers',\n",
              " 'Sourpatch Kids (i.e. abominations of nature)',\n",
              " 'Spotted Dick',\n",
              " 'Starburst',\n",
              " 'Sweet Tarts',\n",
              " 'Swedish Fish',\n",
              " 'Sweetums (a friend to diabetes)',\n",
              " 'Take 5',\n",
              " 'Tic Tacs',\n",
              " 'Those odd marshmallow circus peanut things',\n",
              " 'Three Musketeers',\n",
              " 'Tolberone something or other',\n",
              " 'Trail Mix',\n",
              " 'Twix',\n",
              " 'Vials of pure high fructose corn syrup, for main-lining into your vein',\n",
              " 'Vicodin',\n",
              " 'Whatchamacallit Bars',\n",
              " 'White Bread',\n",
              " 'Whole Wheat anything',\n",
              " 'York Peppermint Patties',\n",
              " 'DRESS',\n",
              " 'DAY',\n",
              " 'MEDIA [Daily Dish]',\n",
              " 'MEDIA [Science]',\n",
              " 'MEDIA [ESPN]',\n",
              " 'MEDIA [Yahoo]',\n",
              " 'Click Coordinates (x, y)']"
            ]
          },
          "metadata": {},
          "execution_count": 960
        }
      ]
    },
    {
      "cell_type": "markdown",
      "source": [
        "Eliminamos las filas que no validaron el proceso de envio de la encuesta."
      ],
      "metadata": {
        "id": "hcyFPs_82ZZ3"
      }
    },
    {
      "cell_type": "code",
      "source": [
        "df = df.dropna(subset=['Click Coordinates (x, y)'], axis=0)"
      ],
      "metadata": {
        "id": "MrJMeSkmpcKT"
      },
      "execution_count": null,
      "outputs": []
    },
    {
      "cell_type": "code",
      "source": [
        "df.shape"
      ],
      "metadata": {
        "colab": {
          "base_uri": "https://localhost:8080/"
        },
        "id": "Jn2qkKerpcIa",
        "outputId": "90a63597-dca3-40ff-ccc1-cabbdb97f485"
      },
      "execution_count": null,
      "outputs": [
        {
          "output_type": "execute_result",
          "data": {
            "text/plain": [
              "(1605, 115)"
            ]
          },
          "metadata": {},
          "execution_count": 962
        }
      ]
    },
    {
      "cell_type": "markdown",
      "source": [
        "Eliminamos las columnas de validacion de encuesta"
      ],
      "metadata": {
        "id": "z-KI8gMj2s9s"
      }
    },
    {
      "cell_type": "code",
      "source": [
        "df.drop(columns=['MEDIA [ESPN]','MEDIA [Daily Dish]','MEDIA [Science]','MEDIA [Yahoo]','Click Coordinates (x, y)'], inplace=True)"
      ],
      "metadata": {
        "colab": {
          "base_uri": "https://localhost:8080/"
        },
        "id": "hyG7GwQnpcF2",
        "outputId": "a339e03e-45be-4c77-ff29-c12802ab7d3f"
      },
      "execution_count": null,
      "outputs": [
        {
          "output_type": "stream",
          "name": "stderr",
          "text": [
            "/usr/local/lib/python3.7/dist-packages/pandas/core/frame.py:4913: SettingWithCopyWarning: \n",
            "A value is trying to be set on a copy of a slice from a DataFrame\n",
            "\n",
            "See the caveats in the documentation: https://pandas.pydata.org/pandas-docs/stable/user_guide/indexing.html#returning-a-view-versus-a-copy\n",
            "  errors=errors,\n"
          ]
        }
      ]
    },
    {
      "cell_type": "code",
      "source": [
        "df.shape"
      ],
      "metadata": {
        "colab": {
          "base_uri": "https://localhost:8080/"
        },
        "id": "VxK4b4fTpcDv",
        "outputId": "9aed0a50-1960-4a1b-b0dd-1e2bf14187ea"
      },
      "execution_count": null,
      "outputs": [
        {
          "output_type": "execute_result",
          "data": {
            "text/plain": [
              "(1605, 110)"
            ]
          },
          "metadata": {},
          "execution_count": 964
        }
      ]
    },
    {
      "cell_type": "markdown",
      "source": [],
      "metadata": {
        "id": "hEIeYDHubMdI"
      }
    },
    {
      "cell_type": "code",
      "source": [
        "porcentaje_vacios()"
      ],
      "metadata": {
        "colab": {
          "base_uri": "https://localhost:8080/"
        },
        "id": "rtv9-NxipcA-",
        "outputId": "916e4d25-0ad3-4a21-8c01-9c36e1d53ded"
      },
      "execution_count": null,
      "outputs": [
        {
          "output_type": "execute_result",
          "data": {
            "text/plain": [
              "GENDER                              0.560748\n",
              "HersheyÕs Milk Chocolate            0.623053\n",
              "DAY                                 0.685358\n",
              "Hershey's Dark Chocolate            0.685358\n",
              "Peanut M&MÕs                        0.685358\n",
              "                                     ...    \n",
              "Sweetums (a friend to diabetes)    19.314642\n",
              "Bonkers (the board game)           19.314642\n",
              "Reggie Jackson Bar                 20.124611\n",
              "Maynards                           20.436137\n",
              "JoyJoy (Mit Iodine!)               20.747664\n",
              "Length: 110, dtype: float64"
            ]
          },
          "metadata": {},
          "execution_count": 965
        }
      ]
    },
    {
      "cell_type": "markdown",
      "source": [
        "logramos bajar a un 20.74% de datos vacios en la columna que tiene mas datos vacios"
      ],
      "metadata": {
        "id": "KARVeX4NbNVg"
      }
    },
    {
      "cell_type": "markdown",
      "source": [
        "checaremos cuantos no contestaron la pregunta de genero"
      ],
      "metadata": {
        "id": "p23MnTwybS62"
      }
    },
    {
      "cell_type": "code",
      "source": [
        "df['GENDER'].isna().sum()"
      ],
      "metadata": {
        "colab": {
          "base_uri": "https://localhost:8080/"
        },
        "id": "a72zal4Q4Udg",
        "outputId": "8240d3ee-5c32-41f7-ca7d-2a8d285afbbb"
      },
      "execution_count": null,
      "outputs": [
        {
          "output_type": "execute_result",
          "data": {
            "text/plain": [
              "9"
            ]
          },
          "metadata": {},
          "execution_count": 966
        }
      ]
    },
    {
      "cell_type": "markdown",
      "source": [
        "Consideraremos si eliminamos los que no contestaron el genero, pero los dejaremos para después. Por eso no le hacemos un inplace=True o asignamos a la variable df"
      ],
      "metadata": {
        "id": "rNCYtWoybxxL"
      }
    },
    {
      "cell_type": "code",
      "source": [
        "df.dropna(subset=['GENDER'], axis=0)"
      ],
      "metadata": {
        "colab": {
          "base_uri": "https://localhost:8080/",
          "height": 991
        },
        "id": "F4pFFWsMpb_H",
        "outputId": "17578d38-f9ab-4c55-b670-6c910f4c140a"
      },
      "execution_count": null,
      "outputs": [
        {
          "output_type": "execute_result",
          "data": {
            "text/plain": [
              "     GOING OUT?  GENDER  AGE COUNTRY STATE, PROVINCE, COUNTY, ETC  \\\n",
              "1            No    Male   44    USA                            NM   \n",
              "3            No    Male   40      us                           or   \n",
              "4            No    Male   23     usa                     exton pa   \n",
              "5            No    Male  NaN     NaN                          NaN   \n",
              "7            No    Male   33  canada                      ontario   \n",
              "...         ...     ...  ...     ...                          ...   \n",
              "2453         No  Female   40  canada                           bc   \n",
              "2454         No  Female   26     USA                     Michigan   \n",
              "2456         No  Female   33     USA                     New York   \n",
              "2457         No  Female   26    USA                     Tennessee   \n",
              "2459         No  Female   66     usa                 Pennsylvania   \n",
              "\n",
              "     100 Grand Bar  \\\n",
              "1              MEH   \n",
              "3              MEH   \n",
              "4              JOY   \n",
              "5              JOY   \n",
              "7              JOY   \n",
              "...            ...   \n",
              "2453           MEH   \n",
              "2454           JOY   \n",
              "2456           MEH   \n",
              "2457           MEH   \n",
              "2459       DESPAIR   \n",
              "\n",
              "     Anonymous brown globs that come in black and orange wrappers\\t(a.k.a. Mary Janes)  \\\n",
              "1                                               DESPAIR                                  \n",
              "3                                               DESPAIR                                  \n",
              "4                                               DESPAIR                                  \n",
              "5                                               DESPAIR                                  \n",
              "7                                               DESPAIR                                  \n",
              "...                                                 ...                                  \n",
              "2453                                            DESPAIR                                  \n",
              "2454                                                MEH                                  \n",
              "2456                                            DESPAIR                                  \n",
              "2457                                            DESPAIR                                  \n",
              "2459                                            DESPAIR                                  \n",
              "\n",
              "     Any full-sized candy bar Black Jacks Bonkers (the candy)  ... Trail Mix  \\\n",
              "1                         JOY         MEH             DESPAIR  ...   DESPAIR   \n",
              "3                         JOY         MEH                 MEH  ...       MEH   \n",
              "4                         JOY     DESPAIR                 MEH  ...   DESPAIR   \n",
              "5                         JOY         NaN                 NaN  ...       MEH   \n",
              "7                         JOY     DESPAIR             DESPAIR  ...   DESPAIR   \n",
              "...                       ...         ...                 ...  ...       ...   \n",
              "2453                      JOY     DESPAIR                 MEH  ...   DESPAIR   \n",
              "2454                      JOY     DESPAIR                 MEH  ...       JOY   \n",
              "2456                      JOY         NaN                 NaN  ...   DESPAIR   \n",
              "2457                      JOY     DESPAIR                 MEH  ...       MEH   \n",
              "2459                      JOY     DESPAIR             DESPAIR  ...   DESPAIR   \n",
              "\n",
              "         Twix  \\\n",
              "1         JOY   \n",
              "3         JOY   \n",
              "4         JOY   \n",
              "5         JOY   \n",
              "7         JOY   \n",
              "...       ...   \n",
              "2453      JOY   \n",
              "2454      JOY   \n",
              "2456      JOY   \n",
              "2457      MEH   \n",
              "2459  DESPAIR   \n",
              "\n",
              "     Vials of pure high fructose corn syrup, for main-lining into your vein  \\\n",
              "1                                               DESPAIR                       \n",
              "3                                               DESPAIR                       \n",
              "4                                                   MEH                       \n",
              "5                                               DESPAIR                       \n",
              "7                                                   JOY                       \n",
              "...                                                 ...                       \n",
              "2453                                            DESPAIR                       \n",
              "2454                                                MEH                       \n",
              "2456                                                NaN                       \n",
              "2457                                                MEH                       \n",
              "2459                                            DESPAIR                       \n",
              "\n",
              "      Vicodin Whatchamacallit Bars White Bread Whole Wheat anything  \\\n",
              "1     DESPAIR              DESPAIR     DESPAIR              DESPAIR   \n",
              "3         JOY                  JOY     DESPAIR              DESPAIR   \n",
              "4         JOY                  JOY     DESPAIR              DESPAIR   \n",
              "5     DESPAIR                  JOY     DESPAIR              DESPAIR   \n",
              "7         MEH              DESPAIR     DESPAIR              DESPAIR   \n",
              "...       ...                  ...         ...                  ...   \n",
              "2453  DESPAIR                  NaN     DESPAIR              DESPAIR   \n",
              "2454      MEH                  JOY         MEH                  MEH   \n",
              "2456      NaN                  JOY     DESPAIR                  MEH   \n",
              "2457      JOY                  MEH     DESPAIR              DESPAIR   \n",
              "2459      JOY              DESPAIR         MEH              DESPAIR   \n",
              "\n",
              "     York Peppermint Patties           DRESS     DAY  \n",
              "1                    DESPAIR  White and gold  Sunday  \n",
              "3                    DESPAIR  White and gold  Sunday  \n",
              "4                        JOY  White and gold  Friday  \n",
              "5                        JOY             NaN     NaN  \n",
              "7                    DESPAIR  Blue and black  Friday  \n",
              "...                      ...             ...     ...  \n",
              "2453                     JOY  White and gold  Sunday  \n",
              "2454                     JOY  White and gold  Friday  \n",
              "2456                     JOY  Blue and black  Friday  \n",
              "2457                     MEH  Blue and black  Friday  \n",
              "2459                     JOY  White and gold  Sunday  \n",
              "\n",
              "[1596 rows x 110 columns]"
            ],
            "text/html": [
              "\n",
              "  <div id=\"df-b78a4c3a-c87f-487f-a336-e8b433052dab\">\n",
              "    <div class=\"colab-df-container\">\n",
              "      <div>\n",
              "<style scoped>\n",
              "    .dataframe tbody tr th:only-of-type {\n",
              "        vertical-align: middle;\n",
              "    }\n",
              "\n",
              "    .dataframe tbody tr th {\n",
              "        vertical-align: top;\n",
              "    }\n",
              "\n",
              "    .dataframe thead th {\n",
              "        text-align: right;\n",
              "    }\n",
              "</style>\n",
              "<table border=\"1\" class=\"dataframe\">\n",
              "  <thead>\n",
              "    <tr style=\"text-align: right;\">\n",
              "      <th></th>\n",
              "      <th>GOING OUT?</th>\n",
              "      <th>GENDER</th>\n",
              "      <th>AGE</th>\n",
              "      <th>COUNTRY</th>\n",
              "      <th>STATE, PROVINCE, COUNTY, ETC</th>\n",
              "      <th>100 Grand Bar</th>\n",
              "      <th>Anonymous brown globs that come in black and orange wrappers\\t(a.k.a. Mary Janes)</th>\n",
              "      <th>Any full-sized candy bar</th>\n",
              "      <th>Black Jacks</th>\n",
              "      <th>Bonkers (the candy)</th>\n",
              "      <th>...</th>\n",
              "      <th>Trail Mix</th>\n",
              "      <th>Twix</th>\n",
              "      <th>Vials of pure high fructose corn syrup, for main-lining into your vein</th>\n",
              "      <th>Vicodin</th>\n",
              "      <th>Whatchamacallit Bars</th>\n",
              "      <th>White Bread</th>\n",
              "      <th>Whole Wheat anything</th>\n",
              "      <th>York Peppermint Patties</th>\n",
              "      <th>DRESS</th>\n",
              "      <th>DAY</th>\n",
              "    </tr>\n",
              "  </thead>\n",
              "  <tbody>\n",
              "    <tr>\n",
              "      <th>1</th>\n",
              "      <td>No</td>\n",
              "      <td>Male</td>\n",
              "      <td>44</td>\n",
              "      <td>USA</td>\n",
              "      <td>NM</td>\n",
              "      <td>MEH</td>\n",
              "      <td>DESPAIR</td>\n",
              "      <td>JOY</td>\n",
              "      <td>MEH</td>\n",
              "      <td>DESPAIR</td>\n",
              "      <td>...</td>\n",
              "      <td>DESPAIR</td>\n",
              "      <td>JOY</td>\n",
              "      <td>DESPAIR</td>\n",
              "      <td>DESPAIR</td>\n",
              "      <td>DESPAIR</td>\n",
              "      <td>DESPAIR</td>\n",
              "      <td>DESPAIR</td>\n",
              "      <td>DESPAIR</td>\n",
              "      <td>White and gold</td>\n",
              "      <td>Sunday</td>\n",
              "    </tr>\n",
              "    <tr>\n",
              "      <th>3</th>\n",
              "      <td>No</td>\n",
              "      <td>Male</td>\n",
              "      <td>40</td>\n",
              "      <td>us</td>\n",
              "      <td>or</td>\n",
              "      <td>MEH</td>\n",
              "      <td>DESPAIR</td>\n",
              "      <td>JOY</td>\n",
              "      <td>MEH</td>\n",
              "      <td>MEH</td>\n",
              "      <td>...</td>\n",
              "      <td>MEH</td>\n",
              "      <td>JOY</td>\n",
              "      <td>DESPAIR</td>\n",
              "      <td>JOY</td>\n",
              "      <td>JOY</td>\n",
              "      <td>DESPAIR</td>\n",
              "      <td>DESPAIR</td>\n",
              "      <td>DESPAIR</td>\n",
              "      <td>White and gold</td>\n",
              "      <td>Sunday</td>\n",
              "    </tr>\n",
              "    <tr>\n",
              "      <th>4</th>\n",
              "      <td>No</td>\n",
              "      <td>Male</td>\n",
              "      <td>23</td>\n",
              "      <td>usa</td>\n",
              "      <td>exton pa</td>\n",
              "      <td>JOY</td>\n",
              "      <td>DESPAIR</td>\n",
              "      <td>JOY</td>\n",
              "      <td>DESPAIR</td>\n",
              "      <td>MEH</td>\n",
              "      <td>...</td>\n",
              "      <td>DESPAIR</td>\n",
              "      <td>JOY</td>\n",
              "      <td>MEH</td>\n",
              "      <td>JOY</td>\n",
              "      <td>JOY</td>\n",
              "      <td>DESPAIR</td>\n",
              "      <td>DESPAIR</td>\n",
              "      <td>JOY</td>\n",
              "      <td>White and gold</td>\n",
              "      <td>Friday</td>\n",
              "    </tr>\n",
              "    <tr>\n",
              "      <th>5</th>\n",
              "      <td>No</td>\n",
              "      <td>Male</td>\n",
              "      <td>NaN</td>\n",
              "      <td>NaN</td>\n",
              "      <td>NaN</td>\n",
              "      <td>JOY</td>\n",
              "      <td>DESPAIR</td>\n",
              "      <td>JOY</td>\n",
              "      <td>NaN</td>\n",
              "      <td>NaN</td>\n",
              "      <td>...</td>\n",
              "      <td>MEH</td>\n",
              "      <td>JOY</td>\n",
              "      <td>DESPAIR</td>\n",
              "      <td>DESPAIR</td>\n",
              "      <td>JOY</td>\n",
              "      <td>DESPAIR</td>\n",
              "      <td>DESPAIR</td>\n",
              "      <td>JOY</td>\n",
              "      <td>NaN</td>\n",
              "      <td>NaN</td>\n",
              "    </tr>\n",
              "    <tr>\n",
              "      <th>7</th>\n",
              "      <td>No</td>\n",
              "      <td>Male</td>\n",
              "      <td>33</td>\n",
              "      <td>canada</td>\n",
              "      <td>ontario</td>\n",
              "      <td>JOY</td>\n",
              "      <td>DESPAIR</td>\n",
              "      <td>JOY</td>\n",
              "      <td>DESPAIR</td>\n",
              "      <td>DESPAIR</td>\n",
              "      <td>...</td>\n",
              "      <td>DESPAIR</td>\n",
              "      <td>JOY</td>\n",
              "      <td>JOY</td>\n",
              "      <td>MEH</td>\n",
              "      <td>DESPAIR</td>\n",
              "      <td>DESPAIR</td>\n",
              "      <td>DESPAIR</td>\n",
              "      <td>DESPAIR</td>\n",
              "      <td>Blue and black</td>\n",
              "      <td>Friday</td>\n",
              "    </tr>\n",
              "    <tr>\n",
              "      <th>...</th>\n",
              "      <td>...</td>\n",
              "      <td>...</td>\n",
              "      <td>...</td>\n",
              "      <td>...</td>\n",
              "      <td>...</td>\n",
              "      <td>...</td>\n",
              "      <td>...</td>\n",
              "      <td>...</td>\n",
              "      <td>...</td>\n",
              "      <td>...</td>\n",
              "      <td>...</td>\n",
              "      <td>...</td>\n",
              "      <td>...</td>\n",
              "      <td>...</td>\n",
              "      <td>...</td>\n",
              "      <td>...</td>\n",
              "      <td>...</td>\n",
              "      <td>...</td>\n",
              "      <td>...</td>\n",
              "      <td>...</td>\n",
              "      <td>...</td>\n",
              "    </tr>\n",
              "    <tr>\n",
              "      <th>2453</th>\n",
              "      <td>No</td>\n",
              "      <td>Female</td>\n",
              "      <td>40</td>\n",
              "      <td>canada</td>\n",
              "      <td>bc</td>\n",
              "      <td>MEH</td>\n",
              "      <td>DESPAIR</td>\n",
              "      <td>JOY</td>\n",
              "      <td>DESPAIR</td>\n",
              "      <td>MEH</td>\n",
              "      <td>...</td>\n",
              "      <td>DESPAIR</td>\n",
              "      <td>JOY</td>\n",
              "      <td>DESPAIR</td>\n",
              "      <td>DESPAIR</td>\n",
              "      <td>NaN</td>\n",
              "      <td>DESPAIR</td>\n",
              "      <td>DESPAIR</td>\n",
              "      <td>JOY</td>\n",
              "      <td>White and gold</td>\n",
              "      <td>Sunday</td>\n",
              "    </tr>\n",
              "    <tr>\n",
              "      <th>2454</th>\n",
              "      <td>No</td>\n",
              "      <td>Female</td>\n",
              "      <td>26</td>\n",
              "      <td>USA</td>\n",
              "      <td>Michigan</td>\n",
              "      <td>JOY</td>\n",
              "      <td>MEH</td>\n",
              "      <td>JOY</td>\n",
              "      <td>DESPAIR</td>\n",
              "      <td>MEH</td>\n",
              "      <td>...</td>\n",
              "      <td>JOY</td>\n",
              "      <td>JOY</td>\n",
              "      <td>MEH</td>\n",
              "      <td>MEH</td>\n",
              "      <td>JOY</td>\n",
              "      <td>MEH</td>\n",
              "      <td>MEH</td>\n",
              "      <td>JOY</td>\n",
              "      <td>White and gold</td>\n",
              "      <td>Friday</td>\n",
              "    </tr>\n",
              "    <tr>\n",
              "      <th>2456</th>\n",
              "      <td>No</td>\n",
              "      <td>Female</td>\n",
              "      <td>33</td>\n",
              "      <td>USA</td>\n",
              "      <td>New York</td>\n",
              "      <td>MEH</td>\n",
              "      <td>DESPAIR</td>\n",
              "      <td>JOY</td>\n",
              "      <td>NaN</td>\n",
              "      <td>NaN</td>\n",
              "      <td>...</td>\n",
              "      <td>DESPAIR</td>\n",
              "      <td>JOY</td>\n",
              "      <td>NaN</td>\n",
              "      <td>NaN</td>\n",
              "      <td>JOY</td>\n",
              "      <td>DESPAIR</td>\n",
              "      <td>MEH</td>\n",
              "      <td>JOY</td>\n",
              "      <td>Blue and black</td>\n",
              "      <td>Friday</td>\n",
              "    </tr>\n",
              "    <tr>\n",
              "      <th>2457</th>\n",
              "      <td>No</td>\n",
              "      <td>Female</td>\n",
              "      <td>26</td>\n",
              "      <td>USA</td>\n",
              "      <td>Tennessee</td>\n",
              "      <td>MEH</td>\n",
              "      <td>DESPAIR</td>\n",
              "      <td>JOY</td>\n",
              "      <td>DESPAIR</td>\n",
              "      <td>MEH</td>\n",
              "      <td>...</td>\n",
              "      <td>MEH</td>\n",
              "      <td>MEH</td>\n",
              "      <td>MEH</td>\n",
              "      <td>JOY</td>\n",
              "      <td>MEH</td>\n",
              "      <td>DESPAIR</td>\n",
              "      <td>DESPAIR</td>\n",
              "      <td>MEH</td>\n",
              "      <td>Blue and black</td>\n",
              "      <td>Friday</td>\n",
              "    </tr>\n",
              "    <tr>\n",
              "      <th>2459</th>\n",
              "      <td>No</td>\n",
              "      <td>Female</td>\n",
              "      <td>66</td>\n",
              "      <td>usa</td>\n",
              "      <td>Pennsylvania</td>\n",
              "      <td>DESPAIR</td>\n",
              "      <td>DESPAIR</td>\n",
              "      <td>JOY</td>\n",
              "      <td>DESPAIR</td>\n",
              "      <td>DESPAIR</td>\n",
              "      <td>...</td>\n",
              "      <td>DESPAIR</td>\n",
              "      <td>DESPAIR</td>\n",
              "      <td>DESPAIR</td>\n",
              "      <td>JOY</td>\n",
              "      <td>DESPAIR</td>\n",
              "      <td>MEH</td>\n",
              "      <td>DESPAIR</td>\n",
              "      <td>JOY</td>\n",
              "      <td>White and gold</td>\n",
              "      <td>Sunday</td>\n",
              "    </tr>\n",
              "  </tbody>\n",
              "</table>\n",
              "<p>1596 rows × 110 columns</p>\n",
              "</div>\n",
              "      <button class=\"colab-df-convert\" onclick=\"convertToInteractive('df-b78a4c3a-c87f-487f-a336-e8b433052dab')\"\n",
              "              title=\"Convert this dataframe to an interactive table.\"\n",
              "              style=\"display:none;\">\n",
              "        \n",
              "  <svg xmlns=\"http://www.w3.org/2000/svg\" height=\"24px\"viewBox=\"0 0 24 24\"\n",
              "       width=\"24px\">\n",
              "    <path d=\"M0 0h24v24H0V0z\" fill=\"none\"/>\n",
              "    <path d=\"M18.56 5.44l.94 2.06.94-2.06 2.06-.94-2.06-.94-.94-2.06-.94 2.06-2.06.94zm-11 1L8.5 8.5l.94-2.06 2.06-.94-2.06-.94L8.5 2.5l-.94 2.06-2.06.94zm10 10l.94 2.06.94-2.06 2.06-.94-2.06-.94-.94-2.06-.94 2.06-2.06.94z\"/><path d=\"M17.41 7.96l-1.37-1.37c-.4-.4-.92-.59-1.43-.59-.52 0-1.04.2-1.43.59L10.3 9.45l-7.72 7.72c-.78.78-.78 2.05 0 2.83L4 21.41c.39.39.9.59 1.41.59.51 0 1.02-.2 1.41-.59l7.78-7.78 2.81-2.81c.8-.78.8-2.07 0-2.86zM5.41 20L4 18.59l7.72-7.72 1.47 1.35L5.41 20z\"/>\n",
              "  </svg>\n",
              "      </button>\n",
              "      \n",
              "  <style>\n",
              "    .colab-df-container {\n",
              "      display:flex;\n",
              "      flex-wrap:wrap;\n",
              "      gap: 12px;\n",
              "    }\n",
              "\n",
              "    .colab-df-convert {\n",
              "      background-color: #E8F0FE;\n",
              "      border: none;\n",
              "      border-radius: 50%;\n",
              "      cursor: pointer;\n",
              "      display: none;\n",
              "      fill: #1967D2;\n",
              "      height: 32px;\n",
              "      padding: 0 0 0 0;\n",
              "      width: 32px;\n",
              "    }\n",
              "\n",
              "    .colab-df-convert:hover {\n",
              "      background-color: #E2EBFA;\n",
              "      box-shadow: 0px 1px 2px rgba(60, 64, 67, 0.3), 0px 1px 3px 1px rgba(60, 64, 67, 0.15);\n",
              "      fill: #174EA6;\n",
              "    }\n",
              "\n",
              "    [theme=dark] .colab-df-convert {\n",
              "      background-color: #3B4455;\n",
              "      fill: #D2E3FC;\n",
              "    }\n",
              "\n",
              "    [theme=dark] .colab-df-convert:hover {\n",
              "      background-color: #434B5C;\n",
              "      box-shadow: 0px 1px 3px 1px rgba(0, 0, 0, 0.15);\n",
              "      filter: drop-shadow(0px 1px 2px rgba(0, 0, 0, 0.3));\n",
              "      fill: #FFFFFF;\n",
              "    }\n",
              "  </style>\n",
              "\n",
              "      <script>\n",
              "        const buttonEl =\n",
              "          document.querySelector('#df-b78a4c3a-c87f-487f-a336-e8b433052dab button.colab-df-convert');\n",
              "        buttonEl.style.display =\n",
              "          google.colab.kernel.accessAllowed ? 'block' : 'none';\n",
              "\n",
              "        async function convertToInteractive(key) {\n",
              "          const element = document.querySelector('#df-b78a4c3a-c87f-487f-a336-e8b433052dab');\n",
              "          const dataTable =\n",
              "            await google.colab.kernel.invokeFunction('convertToInteractive',\n",
              "                                                     [key], {});\n",
              "          if (!dataTable) return;\n",
              "\n",
              "          const docLinkHtml = 'Like what you see? Visit the ' +\n",
              "            '<a target=\"_blank\" href=https://colab.research.google.com/notebooks/data_table.ipynb>data table notebook</a>'\n",
              "            + ' to learn more about interactive tables.';\n",
              "          element.innerHTML = '';\n",
              "          dataTable['output_type'] = 'display_data';\n",
              "          await google.colab.output.renderOutput(dataTable, element);\n",
              "          const docLink = document.createElement('div');\n",
              "          docLink.innerHTML = docLinkHtml;\n",
              "          element.appendChild(docLink);\n",
              "        }\n",
              "      </script>\n",
              "    </div>\n",
              "  </div>\n",
              "  "
            ]
          },
          "metadata": {},
          "execution_count": 967
        }
      ]
    },
    {
      "cell_type": "markdown",
      "source": [
        "Obtenemos todas las columnas que pertenecen a la pregunta 6. La cual es de opcion multiple y tiene 3 opciones: 'JOY','MEH','DESPAIR'"
      ],
      "metadata": {
        "id": "E9lUQww4cB7j"
      }
    },
    {
      "cell_type": "code",
      "source": [
        "columnas_pregunta_6 = df.columns[5:-2]"
      ],
      "metadata": {
        "id": "ILzhKsBGpb8U"
      },
      "execution_count": null,
      "outputs": []
    },
    {
      "cell_type": "markdown",
      "source": [
        "Creamos una funcion que nos da los valores unicos de respuesta y los transforma en un diccionario para utilizar la funcion map posteriormente\n",
        "\n",
        "\n"
      ],
      "metadata": {
        "id": "erD53DvIcVrX"
      }
    },
    {
      "cell_type": "code",
      "source": [
        "def column_to_dictionary(column) :\n",
        "  dictionary = pd.DataFrame(column.unique().tolist()).to_dict()[0]\n",
        "  return {x:y for y, x in dictionary.items()}"
      ],
      "metadata": {
        "id": "4ECX2JfM6EZU"
      },
      "execution_count": null,
      "outputs": []
    },
    {
      "cell_type": "markdown",
      "source": [
        "Transformamos las respuestas de la pregunta 6 en un dictionario"
      ],
      "metadata": {
        "id": "TI61gsvE6Ezq"
      }
    },
    {
      "cell_type": "code",
      "source": [
        "series_name = column_to_dictionary(df[df.columns[5]])\n",
        "series_name"
      ],
      "metadata": {
        "colab": {
          "base_uri": "https://localhost:8080/"
        },
        "id": "ax2GsC7q8pH3",
        "outputId": "5727af41-8d03-472f-a594-ddd235696df5"
      },
      "execution_count": null,
      "outputs": [
        {
          "output_type": "execute_result",
          "data": {
            "text/plain": [
              "{'MEH': 0, 'JOY': 1, nan: 2, 'DESPAIR': 3}"
            ]
          },
          "metadata": {},
          "execution_count": 970
        }
      ]
    },
    {
      "cell_type": "markdown",
      "source": [
        "observamos que quedan nan en la columna"
      ],
      "metadata": {
        "id": "-TBKfAuMcgdB"
      }
    },
    {
      "cell_type": "code",
      "source": [
        "len(df)"
      ],
      "metadata": {
        "colab": {
          "base_uri": "https://localhost:8080/"
        },
        "id": "psgyyghM-ION",
        "outputId": "7699d9fd-a7ee-4202-9579-0c9932987bed"
      },
      "execution_count": null,
      "outputs": [
        {
          "output_type": "execute_result",
          "data": {
            "text/plain": [
              "1605"
            ]
          },
          "metadata": {},
          "execution_count": 971
        }
      ]
    },
    {
      "cell_type": "markdown",
      "source": [
        "creamos una funcion que cuenta cuantos joy, meh, despair y vacios tiene cada columna que le pasemos"
      ],
      "metadata": {
        "id": "oeQ15fD-cwgT"
      }
    },
    {
      "cell_type": "code",
      "source": [
        "def column_values_count(column_name) :\n",
        "  joy = [i == 'JOY'  for i in df[column_name]].count(True)\n",
        "  meh = [i == 'MEH' for i in df[column_name]].count(True)\n",
        "  despair = [i == 'DESPAIR' for i in df[column_name]].count(True)\n",
        "  nan = len(df) - joy - meh - despair\n",
        "  print(column_name, joy, meh, despair, nan, len(df), max([joy, meh, despair]))"
      ],
      "metadata": {
        "id": "P-XZWccQ6EW7"
      },
      "execution_count": null,
      "outputs": []
    },
    {
      "cell_type": "markdown",
      "source": [
        "hacemos un ciclo con todas las columnas de la pregunta 6 para analizar los datos de joy, meh, despair, para ver si encontramos patrones y saber que hacer con los datos"
      ],
      "metadata": {
        "id": "5Njcyt_ac4hU"
      }
    },
    {
      "cell_type": "code",
      "source": [
        "for i in columnas_pregunta_6 :\n",
        "  column_values_count(i)"
      ],
      "metadata": {
        "colab": {
          "base_uri": "https://localhost:8080/"
        },
        "id": "L5WiCs4t6EUj",
        "outputId": "8148224c-2f9a-43c6-ad5d-439685ef5a2b"
      },
      "execution_count": null,
      "outputs": [
        {
          "output_type": "stream",
          "name": "stdout",
          "text": [
            "100 Grand Bar 777 674 72 82 1605 777\n",
            "Anonymous brown globs that come in black and orange wrappers\t(a.k.a. Mary Janes) 151 404 980 70 1605 980\n",
            "Any full-sized candy bar 1395 182 14 14 1605 1395\n",
            "Black Jacks 83 544 704 274 1605 704\n",
            "Bonkers (the candy) 102 771 432 300 1605 771\n",
            "Bonkers (the board game) 179 629 487 310 1605 629\n",
            "Bottle Caps 408 602 504 91 1605 602\n",
            "Box'o'Raisins 98 427 1058 22 1605 1058\n",
            "Broken glow stick 22 91 1454 38 1605 1454\n",
            "Butterfinger 1040 412 130 23 1605 1040\n",
            "Cadbury Creme Eggs 742 489 353 21 1605 742\n",
            "Candy Corn 431 500 658 16 1605 658\n",
            "Candy that is clearly just the stuff given out for free at restaurants 37 357 1187 24 1605 1187\n",
            "Caramellos 846 532 145 82 1605 846\n",
            "Cash, or other forms of legal tender 1286 242 57 20 1605 1286\n",
            "Chardonnay 938 316 276 75 1605 938\n",
            "Chick-o-Sticks (we donÕt know what that is) 261 506 577 261 1605 577\n",
            "Chiclets 222 664 677 42 1605 677\n",
            "Coffee Crisp 424 520 484 177 1605 520\n",
            "Creepy Religious comics/Chick Tracts 213 94 1261 37 1605 1261\n",
            "Dental paraphenalia 78 213 1286 28 1605 1286\n",
            "Dots 362 593 593 57 1605 593\n",
            "Dove Bars 1054 419 93 39 1605 1054\n",
            "Fuzzy Peaches 356 495 606 148 1605 606\n",
            "Generic Brand Acetaminophen 140 354 1052 59 1605 1052\n",
            "Glow sticks 549 635 388 33 1605 635\n",
            "Goo Goo Clusters 371 627 411 196 1605 627\n",
            "Good N' Plenty 368 516 656 65 1605 656\n",
            "Gum from baseball cards 39 207 1309 50 1605 1309\n",
            "Gummy Bears straight up 663 527 387 28 1605 663\n",
            "Hard Candy 248 812 518 27 1605 812\n",
            "Healthy Fruit 198 609 765 33 1605 765\n",
            "Heath Bar 952 414 190 49 1605 952\n",
            "Hershey's Dark Chocolate 988 446 160 11 1605 988\n",
            "HersheyÕs Milk Chocolate 803 596 196 10 1605 803\n",
            "Hershey's Kisses 748 650 192 15 1605 748\n",
            "Hugs (actual physical hugs) 388 379 793 45 1605 793\n",
            "Jolly Rancher (bad flavor) 87 533 956 29 1605 956\n",
            "Jolly Ranchers (good flavor) 667 569 339 30 1605 667\n",
            "JoyJoy (Mit Iodine!) 67 354 851 333 1605 851\n",
            "Junior Mints 916 436 220 33 1605 916\n",
            "Senior Mints 141 415 798 251 1605 798\n",
            "Kale smoothie 89 146 1296 74 1605 1296\n",
            "Kinder Happy Hippo 454 388 505 258 1605 505\n",
            "Kit Kat 1287 257 48 13 1605 1287\n",
            "LaffyTaffy 395 652 491 67 1605 652\n",
            "LemonHeads 589 623 330 63 1605 623\n",
            "Licorice (not black) 492 636 456 21 1605 636\n",
            "Licorice (yes black) 481 297 806 21 1605 806\n",
            "Lindt Truffle 1141 330 84 50 1605 1141\n",
            "Lollipops 326 847 407 25 1605 847\n",
            "Mars 917 520 113 55 1605 917\n",
            "Maynards 135 625 517 328 1605 625\n",
            "Mike and Ike 480 585 483 57 1605 585\n",
            "Milk Duds 781 576 219 29 1605 781\n",
            "Milky Way 1069 420 90 26 1605 1069\n",
            "Regular M&Ms 1003 520 68 14 1605 1003\n",
            "Peanut M&MÕs 1148 332 114 11 1605 1148\n",
            "Blue M&M's 917 524 105 59 1605 917\n",
            "Red M&M's 898 532 114 61 1605 898\n",
            "Green Party M&M's 867 518 124 96 1605 867\n",
            "Independent M&M's 680 552 234 139 1605 680\n",
            "Abstained from M&M'ing. 198 532 619 256 1605 619\n",
            "Minibags of chips 484 677 390 54 1605 677\n",
            "Mint Kisses 557 568 376 104 1605 568\n",
            "Mint Juleps 817 296 363 129 1605 817\n",
            "Mr. Goodbar 767 575 195 68 1605 767\n",
            "Necco Wafers 308 509 716 72 1605 716\n",
            "Nerds 690 543 320 52 1605 690\n",
            "Nestle Crunch 1063 418 92 32 1605 1063\n",
            "Now'n'Laters 317 658 490 140 1605 658\n",
            "Peeps 216 382 965 42 1605 965\n",
            "Pencils 163 435 970 37 1605 970\n",
            "Pixy Stix 489 580 486 50 1605 580\n",
            "Real Housewives of Orange County Season 9 Blue-Ray 79 122 1325 79 1605 1325\n",
            "ReeseÕs Peanut Butter Cups 1329 168 91 17 1605 1329\n",
            "Reese's Pieces 1003 413 160 29 1605 1003\n",
            "Reggie Jackson Bar 229 627 426 323 1605 627\n",
            "Rolos 1023 409 126 47 1605 1023\n",
            "Sandwich-sized bags filled with BooBerry Crunch 185 291 1032 97 1605 1032\n",
            "Skittles 744 540 283 38 1605 744\n",
            "Smarties (American) 653 515 382 55 1605 653\n",
            "Smarties (Commonwealth) 491 537 364 213 1605 537\n",
            "Snickers 1254 258 68 25 1605 1254\n",
            "Sourpatch Kids (i.e. abominations of nature) 678 403 454 70 1605 678\n",
            "Spotted Dick 110 277 1022 196 1605 1022\n",
            "Starburst 767 546 264 28 1605 767\n",
            "Sweet Tarts 708 539 316 42 1605 708\n",
            "Swedish Fish 666 486 406 47 1605 666\n",
            "Sweetums (a friend to diabetes) 138 492 665 310 1605 665\n",
            "Take 5 518 550 311 226 1605 550\n",
            "Tic Tacs 237 648 676 44 1605 676\n",
            "Those odd marshmallow circus peanut things 167 247 1125 66 1605 1125\n",
            "Three Musketeers 949 461 151 44 1605 949\n",
            "Tolberone something or other 1187 307 74 37 1605 1187\n",
            "Trail Mix 193 617 754 41 1605 754\n",
            "Twix 1263 249 66 27 1605 1263\n",
            "Vials of pure high fructose corn syrup, for main-lining into your vein 206 259 1025 115 1605 1025\n",
            "Vicodin 647 211 635 112 1605 647\n",
            "Whatchamacallit Bars 752 461 256 136 1605 752\n",
            "White Bread 37 184 1305 79 1605 1305\n",
            "Whole Wheat anything 95 287 1151 72 1605 1151\n",
            "York Peppermint Patties 986 376 207 36 1605 986\n"
          ]
        }
      ]
    },
    {
      "cell_type": "markdown",
      "source": [
        "Como no encontramos patrones visiblemente, cecidimos crear una nueva clasificacion llamada NC(no contesto) para no alterar los datos y llenamos los na con esta nueva clasificación"
      ],
      "metadata": {
        "id": "UWmkUrCe_SsC"
      }
    },
    {
      "cell_type": "code",
      "source": [
        "df2 = df.copy()"
      ],
      "metadata": {
        "id": "lpEsvXIQ6ER3"
      },
      "execution_count": null,
      "outputs": []
    },
    {
      "cell_type": "code",
      "source": [
        "df2[df2.columns[5:-2]] = df2[df2.columns[5:-2]].fillna(\"NC\")"
      ],
      "metadata": {
        "id": "Ld5cbIsk_lWp"
      },
      "execution_count": null,
      "outputs": []
    },
    {
      "cell_type": "code",
      "source": [
        "df = df2.copy()"
      ],
      "metadata": {
        "id": "68p4uFwb__px"
      },
      "execution_count": null,
      "outputs": []
    },
    {
      "cell_type": "markdown",
      "source": [
        "para la pregunta 6 ya no hay vacios"
      ],
      "metadata": {
        "id": "aWiopaBAdTgB"
      }
    },
    {
      "cell_type": "code",
      "source": [
        "porcentaje_vacios()"
      ],
      "metadata": {
        "colab": {
          "base_uri": "https://localhost:8080/"
        },
        "id": "D1_0VSOE_y2_",
        "outputId": "b887a79f-e84e-4a96-e776-a6e747f0c85a"
      },
      "execution_count": null,
      "outputs": [
        {
          "output_type": "execute_result",
          "data": {
            "text/plain": [
              "GENDER                          0.560748\n",
              "DAY                             0.685358\n",
              "COUNTRY                         0.996885\n",
              "DRESS                           1.682243\n",
              "AGE                             1.869159\n",
              "STATE, PROVINCE, COUNTY, ETC    2.180685\n",
              "GOING OUT?                      3.302181\n",
              "dtype: float64"
            ]
          },
          "metadata": {},
          "execution_count": 977
        }
      ]
    },
    {
      "cell_type": "code",
      "source": [
        "series_name = column_to_dictionary(df[df.columns[5]])\n",
        "series_name"
      ],
      "metadata": {
        "colab": {
          "base_uri": "https://localhost:8080/"
        },
        "id": "03YB8cwj_y0l",
        "outputId": "08c985fe-960a-4411-cb06-63d1f2edcd5f"
      },
      "execution_count": null,
      "outputs": [
        {
          "output_type": "execute_result",
          "data": {
            "text/plain": [
              "{'MEH': 0, 'JOY': 1, 'NC': 2, 'DESPAIR': 3}"
            ]
          },
          "metadata": {},
          "execution_count": 978
        }
      ]
    },
    {
      "cell_type": "markdown",
      "source": [
        "Transformamos los datos de estas columnas a numerico con el diccionario que viene arriba"
      ],
      "metadata": {
        "id": "D_yn-62CdZFS"
      }
    },
    {
      "cell_type": "code",
      "source": [
        "for column_name in df.columns[5:-2]:\n",
        "  df[column_name]=df[column_name].map(series_name)\n",
        "df.head()"
      ],
      "metadata": {
        "colab": {
          "base_uri": "https://localhost:8080/",
          "height": 629
        },
        "id": "gF1MGI_x_yyG",
        "outputId": "0a486ffc-96f2-481f-8074-db1a7b25fd11"
      },
      "execution_count": null,
      "outputs": [
        {
          "output_type": "execute_result",
          "data": {
            "text/plain": [
              "  GOING OUT? GENDER  AGE COUNTRY STATE, PROVINCE, COUNTY, ETC  100 Grand Bar  \\\n",
              "1         No   Male   44    USA                            NM              0   \n",
              "3         No   Male   40      us                           or              0   \n",
              "4         No   Male   23     usa                     exton pa              1   \n",
              "5         No   Male  NaN     NaN                          NaN              1   \n",
              "7         No   Male   33  canada                      ontario              1   \n",
              "\n",
              "   Anonymous brown globs that come in black and orange wrappers\\t(a.k.a. Mary Janes)  \\\n",
              "1                                                  3                                   \n",
              "3                                                  3                                   \n",
              "4                                                  3                                   \n",
              "5                                                  3                                   \n",
              "7                                                  3                                   \n",
              "\n",
              "   Any full-sized candy bar  Black Jacks  Bonkers (the candy)  ...  Trail Mix  \\\n",
              "1                         1            0                    3  ...          3   \n",
              "3                         1            0                    0  ...          0   \n",
              "4                         1            3                    0  ...          3   \n",
              "5                         1            2                    2  ...          0   \n",
              "7                         1            3                    3  ...          3   \n",
              "\n",
              "   Twix  \\\n",
              "1     1   \n",
              "3     1   \n",
              "4     1   \n",
              "5     1   \n",
              "7     1   \n",
              "\n",
              "   Vials of pure high fructose corn syrup, for main-lining into your vein  \\\n",
              "1                                                  3                        \n",
              "3                                                  3                        \n",
              "4                                                  0                        \n",
              "5                                                  3                        \n",
              "7                                                  1                        \n",
              "\n",
              "   Vicodin  Whatchamacallit Bars  White Bread  Whole Wheat anything  \\\n",
              "1        3                     3            3                     3   \n",
              "3        1                     1            3                     3   \n",
              "4        1                     1            3                     3   \n",
              "5        3                     1            3                     3   \n",
              "7        0                     3            3                     3   \n",
              "\n",
              "   York Peppermint Patties           DRESS     DAY  \n",
              "1                        3  White and gold  Sunday  \n",
              "3                        3  White and gold  Sunday  \n",
              "4                        1  White and gold  Friday  \n",
              "5                        1             NaN     NaN  \n",
              "7                        3  Blue and black  Friday  \n",
              "\n",
              "[5 rows x 110 columns]"
            ],
            "text/html": [
              "\n",
              "  <div id=\"df-3eb99d7b-ed2a-4d60-a230-df34f49a223c\">\n",
              "    <div class=\"colab-df-container\">\n",
              "      <div>\n",
              "<style scoped>\n",
              "    .dataframe tbody tr th:only-of-type {\n",
              "        vertical-align: middle;\n",
              "    }\n",
              "\n",
              "    .dataframe tbody tr th {\n",
              "        vertical-align: top;\n",
              "    }\n",
              "\n",
              "    .dataframe thead th {\n",
              "        text-align: right;\n",
              "    }\n",
              "</style>\n",
              "<table border=\"1\" class=\"dataframe\">\n",
              "  <thead>\n",
              "    <tr style=\"text-align: right;\">\n",
              "      <th></th>\n",
              "      <th>GOING OUT?</th>\n",
              "      <th>GENDER</th>\n",
              "      <th>AGE</th>\n",
              "      <th>COUNTRY</th>\n",
              "      <th>STATE, PROVINCE, COUNTY, ETC</th>\n",
              "      <th>100 Grand Bar</th>\n",
              "      <th>Anonymous brown globs that come in black and orange wrappers\\t(a.k.a. Mary Janes)</th>\n",
              "      <th>Any full-sized candy bar</th>\n",
              "      <th>Black Jacks</th>\n",
              "      <th>Bonkers (the candy)</th>\n",
              "      <th>...</th>\n",
              "      <th>Trail Mix</th>\n",
              "      <th>Twix</th>\n",
              "      <th>Vials of pure high fructose corn syrup, for main-lining into your vein</th>\n",
              "      <th>Vicodin</th>\n",
              "      <th>Whatchamacallit Bars</th>\n",
              "      <th>White Bread</th>\n",
              "      <th>Whole Wheat anything</th>\n",
              "      <th>York Peppermint Patties</th>\n",
              "      <th>DRESS</th>\n",
              "      <th>DAY</th>\n",
              "    </tr>\n",
              "  </thead>\n",
              "  <tbody>\n",
              "    <tr>\n",
              "      <th>1</th>\n",
              "      <td>No</td>\n",
              "      <td>Male</td>\n",
              "      <td>44</td>\n",
              "      <td>USA</td>\n",
              "      <td>NM</td>\n",
              "      <td>0</td>\n",
              "      <td>3</td>\n",
              "      <td>1</td>\n",
              "      <td>0</td>\n",
              "      <td>3</td>\n",
              "      <td>...</td>\n",
              "      <td>3</td>\n",
              "      <td>1</td>\n",
              "      <td>3</td>\n",
              "      <td>3</td>\n",
              "      <td>3</td>\n",
              "      <td>3</td>\n",
              "      <td>3</td>\n",
              "      <td>3</td>\n",
              "      <td>White and gold</td>\n",
              "      <td>Sunday</td>\n",
              "    </tr>\n",
              "    <tr>\n",
              "      <th>3</th>\n",
              "      <td>No</td>\n",
              "      <td>Male</td>\n",
              "      <td>40</td>\n",
              "      <td>us</td>\n",
              "      <td>or</td>\n",
              "      <td>0</td>\n",
              "      <td>3</td>\n",
              "      <td>1</td>\n",
              "      <td>0</td>\n",
              "      <td>0</td>\n",
              "      <td>...</td>\n",
              "      <td>0</td>\n",
              "      <td>1</td>\n",
              "      <td>3</td>\n",
              "      <td>1</td>\n",
              "      <td>1</td>\n",
              "      <td>3</td>\n",
              "      <td>3</td>\n",
              "      <td>3</td>\n",
              "      <td>White and gold</td>\n",
              "      <td>Sunday</td>\n",
              "    </tr>\n",
              "    <tr>\n",
              "      <th>4</th>\n",
              "      <td>No</td>\n",
              "      <td>Male</td>\n",
              "      <td>23</td>\n",
              "      <td>usa</td>\n",
              "      <td>exton pa</td>\n",
              "      <td>1</td>\n",
              "      <td>3</td>\n",
              "      <td>1</td>\n",
              "      <td>3</td>\n",
              "      <td>0</td>\n",
              "      <td>...</td>\n",
              "      <td>3</td>\n",
              "      <td>1</td>\n",
              "      <td>0</td>\n",
              "      <td>1</td>\n",
              "      <td>1</td>\n",
              "      <td>3</td>\n",
              "      <td>3</td>\n",
              "      <td>1</td>\n",
              "      <td>White and gold</td>\n",
              "      <td>Friday</td>\n",
              "    </tr>\n",
              "    <tr>\n",
              "      <th>5</th>\n",
              "      <td>No</td>\n",
              "      <td>Male</td>\n",
              "      <td>NaN</td>\n",
              "      <td>NaN</td>\n",
              "      <td>NaN</td>\n",
              "      <td>1</td>\n",
              "      <td>3</td>\n",
              "      <td>1</td>\n",
              "      <td>2</td>\n",
              "      <td>2</td>\n",
              "      <td>...</td>\n",
              "      <td>0</td>\n",
              "      <td>1</td>\n",
              "      <td>3</td>\n",
              "      <td>3</td>\n",
              "      <td>1</td>\n",
              "      <td>3</td>\n",
              "      <td>3</td>\n",
              "      <td>1</td>\n",
              "      <td>NaN</td>\n",
              "      <td>NaN</td>\n",
              "    </tr>\n",
              "    <tr>\n",
              "      <th>7</th>\n",
              "      <td>No</td>\n",
              "      <td>Male</td>\n",
              "      <td>33</td>\n",
              "      <td>canada</td>\n",
              "      <td>ontario</td>\n",
              "      <td>1</td>\n",
              "      <td>3</td>\n",
              "      <td>1</td>\n",
              "      <td>3</td>\n",
              "      <td>3</td>\n",
              "      <td>...</td>\n",
              "      <td>3</td>\n",
              "      <td>1</td>\n",
              "      <td>1</td>\n",
              "      <td>0</td>\n",
              "      <td>3</td>\n",
              "      <td>3</td>\n",
              "      <td>3</td>\n",
              "      <td>3</td>\n",
              "      <td>Blue and black</td>\n",
              "      <td>Friday</td>\n",
              "    </tr>\n",
              "  </tbody>\n",
              "</table>\n",
              "<p>5 rows × 110 columns</p>\n",
              "</div>\n",
              "      <button class=\"colab-df-convert\" onclick=\"convertToInteractive('df-3eb99d7b-ed2a-4d60-a230-df34f49a223c')\"\n",
              "              title=\"Convert this dataframe to an interactive table.\"\n",
              "              style=\"display:none;\">\n",
              "        \n",
              "  <svg xmlns=\"http://www.w3.org/2000/svg\" height=\"24px\"viewBox=\"0 0 24 24\"\n",
              "       width=\"24px\">\n",
              "    <path d=\"M0 0h24v24H0V0z\" fill=\"none\"/>\n",
              "    <path d=\"M18.56 5.44l.94 2.06.94-2.06 2.06-.94-2.06-.94-.94-2.06-.94 2.06-2.06.94zm-11 1L8.5 8.5l.94-2.06 2.06-.94-2.06-.94L8.5 2.5l-.94 2.06-2.06.94zm10 10l.94 2.06.94-2.06 2.06-.94-2.06-.94-.94-2.06-.94 2.06-2.06.94z\"/><path d=\"M17.41 7.96l-1.37-1.37c-.4-.4-.92-.59-1.43-.59-.52 0-1.04.2-1.43.59L10.3 9.45l-7.72 7.72c-.78.78-.78 2.05 0 2.83L4 21.41c.39.39.9.59 1.41.59.51 0 1.02-.2 1.41-.59l7.78-7.78 2.81-2.81c.8-.78.8-2.07 0-2.86zM5.41 20L4 18.59l7.72-7.72 1.47 1.35L5.41 20z\"/>\n",
              "  </svg>\n",
              "      </button>\n",
              "      \n",
              "  <style>\n",
              "    .colab-df-container {\n",
              "      display:flex;\n",
              "      flex-wrap:wrap;\n",
              "      gap: 12px;\n",
              "    }\n",
              "\n",
              "    .colab-df-convert {\n",
              "      background-color: #E8F0FE;\n",
              "      border: none;\n",
              "      border-radius: 50%;\n",
              "      cursor: pointer;\n",
              "      display: none;\n",
              "      fill: #1967D2;\n",
              "      height: 32px;\n",
              "      padding: 0 0 0 0;\n",
              "      width: 32px;\n",
              "    }\n",
              "\n",
              "    .colab-df-convert:hover {\n",
              "      background-color: #E2EBFA;\n",
              "      box-shadow: 0px 1px 2px rgba(60, 64, 67, 0.3), 0px 1px 3px 1px rgba(60, 64, 67, 0.15);\n",
              "      fill: #174EA6;\n",
              "    }\n",
              "\n",
              "    [theme=dark] .colab-df-convert {\n",
              "      background-color: #3B4455;\n",
              "      fill: #D2E3FC;\n",
              "    }\n",
              "\n",
              "    [theme=dark] .colab-df-convert:hover {\n",
              "      background-color: #434B5C;\n",
              "      box-shadow: 0px 1px 3px 1px rgba(0, 0, 0, 0.15);\n",
              "      filter: drop-shadow(0px 1px 2px rgba(0, 0, 0, 0.3));\n",
              "      fill: #FFFFFF;\n",
              "    }\n",
              "  </style>\n",
              "\n",
              "      <script>\n",
              "        const buttonEl =\n",
              "          document.querySelector('#df-3eb99d7b-ed2a-4d60-a230-df34f49a223c button.colab-df-convert');\n",
              "        buttonEl.style.display =\n",
              "          google.colab.kernel.accessAllowed ? 'block' : 'none';\n",
              "\n",
              "        async function convertToInteractive(key) {\n",
              "          const element = document.querySelector('#df-3eb99d7b-ed2a-4d60-a230-df34f49a223c');\n",
              "          const dataTable =\n",
              "            await google.colab.kernel.invokeFunction('convertToInteractive',\n",
              "                                                     [key], {});\n",
              "          if (!dataTable) return;\n",
              "\n",
              "          const docLinkHtml = 'Like what you see? Visit the ' +\n",
              "            '<a target=\"_blank\" href=https://colab.research.google.com/notebooks/data_table.ipynb>data table notebook</a>'\n",
              "            + ' to learn more about interactive tables.';\n",
              "          element.innerHTML = '';\n",
              "          dataTable['output_type'] = 'display_data';\n",
              "          await google.colab.output.renderOutput(dataTable, element);\n",
              "          const docLink = document.createElement('div');\n",
              "          docLink.innerHTML = docLinkHtml;\n",
              "          element.appendChild(docLink);\n",
              "        }\n",
              "      </script>\n",
              "    </div>\n",
              "  </div>\n",
              "  "
            ]
          },
          "metadata": {},
          "execution_count": 979
        }
      ]
    },
    {
      "cell_type": "markdown",
      "source": [
        "buscamos que otras columnas son de tipo objeto y vemos su informacion"
      ],
      "metadata": {
        "id": "CRWa6kVCdiRG"
      }
    },
    {
      "cell_type": "code",
      "source": [
        "df.select_dtypes(include=object).info()"
      ],
      "metadata": {
        "colab": {
          "base_uri": "https://localhost:8080/"
        },
        "id": "KC7-q60g_yvm",
        "outputId": "57d07d29-94e0-4e83-f393-3e845a2a3acd"
      },
      "execution_count": null,
      "outputs": [
        {
          "output_type": "stream",
          "name": "stdout",
          "text": [
            "<class 'pandas.core.frame.DataFrame'>\n",
            "Int64Index: 1605 entries, 1 to 2459\n",
            "Data columns (total 7 columns):\n",
            " #   Column                        Non-Null Count  Dtype \n",
            "---  ------                        --------------  ----- \n",
            " 0   GOING OUT?                    1552 non-null   object\n",
            " 1   GENDER                        1596 non-null   object\n",
            " 2   AGE                           1575 non-null   object\n",
            " 3   COUNTRY                       1589 non-null   object\n",
            " 4   STATE, PROVINCE, COUNTY, ETC  1570 non-null   object\n",
            " 5   DRESS                         1578 non-null   object\n",
            " 6   DAY                           1594 non-null   object\n",
            "dtypes: object(7)\n",
            "memory usage: 100.3+ KB\n"
          ]
        }
      ]
    },
    {
      "cell_type": "markdown",
      "source": [
        "Analizaremos la edad, para tratar de entender los datos que no son numéricos"
      ],
      "metadata": {
        "id": "0lhi94OcdrSC"
      }
    },
    {
      "cell_type": "code",
      "source": [
        "for val in df['AGE'] :\n",
        "  if(not(str(val).isnumeric())):\n",
        "      print(val)"
      ],
      "metadata": {
        "colab": {
          "base_uri": "https://localhost:8080/"
        },
        "id": "w2oaSZm8_ytP",
        "outputId": "20d6e210-a3ac-4e72-d60e-9f7617acd641"
      },
      "execution_count": null,
      "outputs": [
        {
          "output_type": "stream",
          "name": "stdout",
          "text": [
            "nan\n",
            "Old enough\n",
            "Many\n",
            "?\n",
            "no\n",
            "nan\n",
            "nan\n",
            "nan\n",
            "nan\n",
            "45-55\n",
            "nan\n",
            "nan\n",
            "nan\n",
            "hahahahaha\n",
            "nan\n",
            "nan\n",
            "nan\n",
            "nan\n",
            "older than dirt\n",
            "nan\n",
            "nan\n",
            "nan\n",
            "Enough\n",
            "See question 2\n",
            "nan\n",
            "24-50\n",
            "nan\n",
            "ancient\n",
            "nan\n",
            "nan\n",
            "nan\n",
            "nan\n",
            "nan\n",
            "nan\n",
            "old\n",
            "nan\n",
            "nan\n",
            "nan\n",
            "MY NAME JEFF\n",
            "59 on the day after Halloween\n",
            "old enough\n",
            "nan\n",
            "nan\n",
            "nan\n",
            "I can remember when Java was a cool new language\n",
            "nan\n"
          ]
        }
      ]
    },
    {
      "cell_type": "markdown",
      "source": [
        "los datos que intuimos que son numericos pero vienen en forma de rango o con texto extra los transformamos al numero sin el texto, o al promedio del rango"
      ],
      "metadata": {
        "id": "dImh27dUdzZt"
      }
    },
    {
      "cell_type": "code",
      "source": [
        "df['AGE'] = df['AGE'].replace(['59 on the day after Halloween'],59)\n",
        "df['AGE'] = df['AGE'].replace(['24-50'],37)\n",
        "df['AGE'] = df['AGE'].replace(['45-55'],50)\n"
      ],
      "metadata": {
        "id": "AJeE-_BWOG4a"
      },
      "execution_count": null,
      "outputs": []
    },
    {
      "cell_type": "markdown",
      "source": [
        "Transformamos los valores que son texto y no nos dan información de la edad en nan, para luego llenarlos con el promedio"
      ],
      "metadata": {
        "id": "7uUHsYwKPsz7"
      }
    },
    {
      "cell_type": "code",
      "source": [
        "lista_edades_string = []\n",
        "for id, val in enumerate(df['AGE']):\n",
        "  if(not(str(val).isnumeric())):\n",
        "    if not(str(val)) == \"nan\":\n",
        "      lista_edades_string.append(val)\n",
        "df['AGE']=df['AGE'].replace(lista_edades_string, np.nan)"
      ],
      "metadata": {
        "id": "Ykq6uYnQOQ6w"
      },
      "execution_count": null,
      "outputs": []
    },
    {
      "cell_type": "markdown",
      "source": [
        "verificamos que nos queden solo nan"
      ],
      "metadata": {
        "id": "8WkMgHQreA0m"
      }
    },
    {
      "cell_type": "code",
      "source": [
        "for val in df['AGE'] :\n",
        "  if(not(str(val).isnumeric())):\n",
        "      print(val)"
      ],
      "metadata": {
        "colab": {
          "base_uri": "https://localhost:8080/"
        },
        "id": "xIEGNUUqQPPI",
        "outputId": "c09636d2-6d63-4faf-85a7-c760f4e5f77c"
      },
      "execution_count": null,
      "outputs": [
        {
          "output_type": "stream",
          "name": "stdout",
          "text": [
            "nan\n",
            "nan\n",
            "nan\n",
            "nan\n",
            "nan\n",
            "nan\n",
            "nan\n",
            "nan\n",
            "nan\n",
            "nan\n",
            "nan\n",
            "nan\n",
            "nan\n",
            "nan\n",
            "nan\n",
            "nan\n",
            "nan\n",
            "nan\n",
            "nan\n",
            "nan\n",
            "nan\n",
            "nan\n",
            "nan\n",
            "nan\n",
            "nan\n",
            "nan\n",
            "nan\n",
            "nan\n",
            "nan\n",
            "nan\n",
            "nan\n",
            "nan\n",
            "nan\n",
            "nan\n",
            "nan\n",
            "nan\n",
            "nan\n",
            "nan\n",
            "nan\n",
            "nan\n",
            "nan\n",
            "nan\n",
            "nan\n"
          ]
        }
      ]
    },
    {
      "cell_type": "markdown",
      "source": [
        "obtenemos el promedio de edad en tipo entero"
      ],
      "metadata": {
        "id": "vdUfoZAceEQ1"
      }
    },
    {
      "cell_type": "code",
      "source": [
        "df[df['AGE'].notna()]['AGE'].astype(int).mean().astype(int)"
      ],
      "metadata": {
        "colab": {
          "base_uri": "https://localhost:8080/"
        },
        "id": "UQHL-kpVRqWy",
        "outputId": "645c3dac-0480-42b9-f9cb-3e7bb61b7e0c"
      },
      "execution_count": null,
      "outputs": [
        {
          "output_type": "execute_result",
          "data": {
            "text/plain": [
              "43"
            ]
          },
          "metadata": {},
          "execution_count": 985
        }
      ]
    },
    {
      "cell_type": "markdown",
      "source": [
        "asignamos a los vacios el promedio de la edad"
      ],
      "metadata": {
        "id": "IfpIRGN-eG_S"
      }
    },
    {
      "cell_type": "code",
      "source": [
        "df['AGE']=df['AGE'].fillna(df[df['AGE'].notna()]['AGE'].astype(int).mean().astype(int))"
      ],
      "metadata": {
        "id": "8ysr5GchQNvg"
      },
      "execution_count": null,
      "outputs": []
    },
    {
      "cell_type": "code",
      "source": [
        "porcentaje_vacios()"
      ],
      "metadata": {
        "colab": {
          "base_uri": "https://localhost:8080/"
        },
        "id": "hYemRyQGRvVM",
        "outputId": "73a50720-ecae-49eb-b512-191a817cb1d9"
      },
      "execution_count": null,
      "outputs": [
        {
          "output_type": "execute_result",
          "data": {
            "text/plain": [
              "GENDER                          0.560748\n",
              "DAY                             0.685358\n",
              "COUNTRY                         0.996885\n",
              "DRESS                           1.682243\n",
              "STATE, PROVINCE, COUNTY, ETC    2.180685\n",
              "GOING OUT?                      3.302181\n",
              "dtype: float64"
            ]
          },
          "metadata": {},
          "execution_count": 987
        }
      ]
    },
    {
      "cell_type": "markdown",
      "source": [
        "Ahora analizamos el país"
      ],
      "metadata": {
        "id": "LwbJbf6CeK7A"
      }
    },
    {
      "cell_type": "code",
      "source": [
        "df['COUNTRY'].unique()"
      ],
      "metadata": {
        "colab": {
          "base_uri": "https://localhost:8080/"
        },
        "id": "F2I-3yIoR816",
        "outputId": "cdeb41e3-86be-47c6-98ad-b436f3141ea1"
      },
      "execution_count": null,
      "outputs": [
        {
          "output_type": "execute_result",
          "data": {
            "text/plain": [
              "array(['USA ', 'us', 'usa', nan, 'canada', 'Canada', 'Us', 'US', 'USA',\n",
              "       'uk', 'United States', 'united states', 'United staes',\n",
              "       'United Kingdom', 'United States of America', 'UAE',\n",
              "       'United States ', 'England', 'Usa', 'canada ', 'United states',\n",
              "       'USAUSAUSA', 'america', 'france', 'United States of America ',\n",
              "       'U.S.A.', 'Mexico', 'Canada ', 'united states of america',\n",
              "       'US of A', 'UK', 'Unites States', 'The United States',\n",
              "       'North Carolina ', 'Netherlands', 'Earth', 'U S', 'u.s.',\n",
              "       'Costa Rica', 'The United States of America', 'insanity lately',\n",
              "       'Greece', 'USA? Hard to tell anymore..', \"'merica\", 'United State',\n",
              "       'France', 'U.S.', 'A', 'Can', 'Canae', 'Trumpistan', 'Ireland',\n",
              "       'United Sates', 'Korea', 'Australia', 'California', 'Japan', 'USa',\n",
              "       'I pretend to be from Canada, but I am really from the United States.',\n",
              "       'Usa ', 'Iceland', 'Scotland', 'Denmark', 'France ', 'Uk',\n",
              "       'Switzerland', 'Ahem....Amerca', 'South Korea', 'New Jersey',\n",
              "       'CANADA', 'United Stated', 'Germany', 'America', 'United Statss',\n",
              "       'endland', 'Atlantis', 'murrika', 'united States ', 'germany',\n",
              "       'N. America', 'Singapore', 'USSA', 'Taiwan', 'China', 'spain',\n",
              "       'Narnia', 'u s a', 'United Statea',\n",
              "       'subscribe to dm4uz3 on youtube', 'USA USA USA!!!!',\n",
              "       \"I don't know anymore\", 'Fear and Loathing'], dtype=object)"
            ]
          },
          "metadata": {},
          "execution_count": 988
        }
      ]
    },
    {
      "cell_type": "markdown",
      "source": [
        "hay muchas formas en las que escriben los paises, empezaremos por limpiar estados unidos"
      ],
      "metadata": {
        "id": "5CjTd9lFeNwf"
      }
    },
    {
      "cell_type": "code",
      "source": [
        "usa = ['USA ', 'us', 'usa',  'Us', 'US', 'USA',\n",
        "       'United States', 'united states', 'United staes','United States of America', \n",
        "       'United States ',  'Usa', 'United states',\n",
        "       'USAUSAUSA', 'america',  'United States of America ',\n",
        "       'U.S.A.',  'united states of america',\n",
        "       'US of A',  'Unites States', 'The United States',\n",
        "       'North Carolina ', 'U S', 'u.s.', 'The United States of America',  'USA? Hard to tell anymore..', \"'merica\", 'United State', 'U.S.',  'Trumpistan',\n",
        "       'United Sates', 'California','USa',\n",
        "       'I pretend to be from Canada, but I am really from the United States.',\n",
        "       'Usa ', 'Ahem....Amerca',  'New Jersey','United Stated','America', 'United Statss', 'united States ',\n",
        "       'N. America',  'USSA', 'u s a', 'United Statea', 'USA USA USA!!!!',\n",
        "       ]"
      ],
      "metadata": {
        "id": "K4coebwkSWbO"
      },
      "execution_count": null,
      "outputs": []
    },
    {
      "cell_type": "code",
      "source": [
        "df['COUNTRY'] = df['COUNTRY'].replace(usa,'USA')"
      ],
      "metadata": {
        "id": "v6P_2QD1R80H"
      },
      "execution_count": null,
      "outputs": []
    },
    {
      "cell_type": "code",
      "source": [
        "df['COUNTRY'].unique()"
      ],
      "metadata": {
        "colab": {
          "base_uri": "https://localhost:8080/"
        },
        "id": "YKrx3OT2R8xS",
        "outputId": "b3cae37d-af17-4654-fa14-11c1915b243b"
      },
      "execution_count": null,
      "outputs": [
        {
          "output_type": "execute_result",
          "data": {
            "text/plain": [
              "array(['USA', nan, 'canada', 'Canada', 'uk', 'United Kingdom', 'UAE',\n",
              "       'England', 'canada ', 'france', 'Mexico', 'Canada ', 'UK',\n",
              "       'Netherlands', 'Earth', 'Costa Rica', 'insanity lately', 'Greece',\n",
              "       'France', 'A', 'Can', 'Canae', 'Ireland', 'Korea', 'Australia',\n",
              "       'Japan', 'Iceland', 'Scotland', 'Denmark', 'France ', 'Uk',\n",
              "       'Switzerland', 'South Korea', 'CANADA', 'Germany', 'endland',\n",
              "       'Atlantis', 'murrika', 'germany', 'Singapore', 'Taiwan', 'China',\n",
              "       'spain', 'Narnia', 'subscribe to dm4uz3 on youtube',\n",
              "       \"I don't know anymore\", 'Fear and Loathing'], dtype=object)"
            ]
          },
          "metadata": {},
          "execution_count": 991
        }
      ]
    },
    {
      "cell_type": "markdown",
      "source": [
        "Ahora Canada"
      ],
      "metadata": {
        "id": "x5PT6F1VeUT1"
      }
    },
    {
      "cell_type": "code",
      "source": [
        "canada = ['canada', 'Canada',  'canada ',  'Canada ', 'Can', 'Canae',  'CANADA',]"
      ],
      "metadata": {
        "id": "qjw4hBIZR8uO"
      },
      "execution_count": null,
      "outputs": []
    },
    {
      "cell_type": "code",
      "source": [
        "df['COUNTRY'] = df['COUNTRY'].replace(canada,'Canada')"
      ],
      "metadata": {
        "id": "CxTP0JitR8rh"
      },
      "execution_count": null,
      "outputs": []
    },
    {
      "cell_type": "code",
      "source": [
        "df['COUNTRY'].unique()"
      ],
      "metadata": {
        "colab": {
          "base_uri": "https://localhost:8080/"
        },
        "id": "IZcfs_O1R8pa",
        "outputId": "1f297e8e-126f-4f7d-c6bd-fef7da4a56f8"
      },
      "execution_count": null,
      "outputs": [
        {
          "output_type": "execute_result",
          "data": {
            "text/plain": [
              "array(['USA', nan, 'Canada', 'uk', 'United Kingdom', 'UAE', 'England',\n",
              "       'france', 'Mexico', 'UK', 'Netherlands', 'Earth', 'Costa Rica',\n",
              "       'insanity lately', 'Greece', 'France', 'A', 'Ireland', 'Korea',\n",
              "       'Australia', 'Japan', 'Iceland', 'Scotland', 'Denmark', 'France ',\n",
              "       'Uk', 'Switzerland', 'South Korea', 'Germany', 'endland',\n",
              "       'Atlantis', 'murrika', 'germany', 'Singapore', 'Taiwan', 'China',\n",
              "       'spain', 'Narnia', 'subscribe to dm4uz3 on youtube',\n",
              "       \"I don't know anymore\", 'Fear and Loathing'], dtype=object)"
            ]
          },
          "metadata": {},
          "execution_count": 994
        }
      ]
    },
    {
      "cell_type": "markdown",
      "source": [
        "Ahora Reino Unido"
      ],
      "metadata": {
        "id": "SzzsI0XdeWWW"
      }
    },
    {
      "cell_type": "code",
      "source": [
        "uk = ['uk', 'United Kingdom',  'England',\n",
        "        'UK', \n",
        "       'Uk',  'endland',\n",
        "       ]"
      ],
      "metadata": {
        "id": "xD0YRAq0TcDY"
      },
      "execution_count": null,
      "outputs": []
    },
    {
      "cell_type": "code",
      "source": [
        "df['COUNTRY'] = df['COUNTRY'].replace(uk,'UK')\n",
        "df['COUNTRY'].unique()"
      ],
      "metadata": {
        "colab": {
          "base_uri": "https://localhost:8080/"
        },
        "id": "C6UpbbfTTcA8",
        "outputId": "e92984c3-4929-4c15-fb82-abe09277d12e"
      },
      "execution_count": null,
      "outputs": [
        {
          "output_type": "execute_result",
          "data": {
            "text/plain": [
              "array(['USA', nan, 'Canada', 'UK', 'UAE', 'france', 'Mexico',\n",
              "       'Netherlands', 'Earth', 'Costa Rica', 'insanity lately', 'Greece',\n",
              "       'France', 'A', 'Ireland', 'Korea', 'Australia', 'Japan', 'Iceland',\n",
              "       'Scotland', 'Denmark', 'France ', 'Switzerland', 'South Korea',\n",
              "       'Germany', 'Atlantis', 'murrika', 'germany', 'Singapore', 'Taiwan',\n",
              "       'China', 'spain', 'Narnia', 'subscribe to dm4uz3 on youtube',\n",
              "       \"I don't know anymore\", 'Fear and Loathing'], dtype=object)"
            ]
          },
          "metadata": {},
          "execution_count": 996
        }
      ]
    },
    {
      "cell_type": "markdown",
      "source": [
        "Pondremos vacios los datos que no son paises conocidos o paises inventados"
      ],
      "metadata": {
        "id": "lWu3TSHdeZYH"
      }
    },
    {
      "cell_type": "code",
      "source": [
        "empty = [ 'Earth','insanity lately',  'A', 'Atlantis', 'murrika', 'Narnia', 'subscribe to dm4uz3 on youtube',\n",
        "       \"I don't know anymore\", 'Fear and Loathing']"
      ],
      "metadata": {
        "id": "I84F8BXRTb9w"
      },
      "execution_count": null,
      "outputs": []
    },
    {
      "cell_type": "code",
      "source": [
        "df['COUNTRY'] = df['COUNTRY'].replace(empty,np.nan)\n",
        "df['COUNTRY'].unique()"
      ],
      "metadata": {
        "colab": {
          "base_uri": "https://localhost:8080/"
        },
        "id": "mm0JY_CtTb4k",
        "outputId": "b5ef65b2-9f12-41be-81c7-104dd4d2503c"
      },
      "execution_count": null,
      "outputs": [
        {
          "output_type": "execute_result",
          "data": {
            "text/plain": [
              "array(['USA', nan, 'Canada', 'UK', 'UAE', 'france', 'Mexico',\n",
              "       'Netherlands', 'Costa Rica', 'Greece', 'France', 'Ireland',\n",
              "       'Korea', 'Australia', 'Japan', 'Iceland', 'Scotland', 'Denmark',\n",
              "       'France ', 'Switzerland', 'South Korea', 'Germany', 'germany',\n",
              "       'Singapore', 'Taiwan', 'China', 'spain'], dtype=object)"
            ]
          },
          "metadata": {},
          "execution_count": 998
        }
      ]
    },
    {
      "cell_type": "markdown",
      "source": [
        "Ponemos los nombres de paises en mayusculas"
      ],
      "metadata": {
        "id": "7tEg54U2ehlE"
      }
    },
    {
      "cell_type": "markdown",
      "source": [
        "y les quitamos los espacios al final y principio ¿Porqué no se nos ocurrio eso primero?"
      ],
      "metadata": {
        "id": "xPNWiS6wemgU"
      }
    },
    {
      "cell_type": "code",
      "source": [
        "df['COUNTRY'] = df['COUNTRY'].str.upper()\n",
        "df['COUNTRY']=df['COUNTRY'].str.strip()"
      ],
      "metadata": {
        "id": "msgDWypwUDOm"
      },
      "execution_count": null,
      "outputs": []
    },
    {
      "cell_type": "markdown",
      "source": [
        "Verificamos que no tengamos duplicados"
      ],
      "metadata": {
        "id": "wGw8x6e4VJAg"
      }
    },
    {
      "cell_type": "code",
      "source": [
        "pd.Series(df['COUNTRY'].unique()).sort_values()"
      ],
      "metadata": {
        "colab": {
          "base_uri": "https://localhost:8080/"
        },
        "id": "JC9qGW7mUDMc",
        "outputId": "2d60f3a8-61c9-4de1-802e-1bf9eff936df"
      },
      "execution_count": null,
      "outputs": [
        {
          "output_type": "execute_result",
          "data": {
            "text/plain": [
              "12      AUSTRALIA\n",
              "2          CANADA\n",
              "22          CHINA\n",
              "8      COSTA RICA\n",
              "16        DENMARK\n",
              "5          FRANCE\n",
              "19        GERMANY\n",
              "9          GREECE\n",
              "14        ICELAND\n",
              "10        IRELAND\n",
              "13          JAPAN\n",
              "11          KOREA\n",
              "6          MEXICO\n",
              "7     NETHERLANDS\n",
              "15       SCOTLAND\n",
              "20      SINGAPORE\n",
              "18    SOUTH KOREA\n",
              "23          SPAIN\n",
              "17    SWITZERLAND\n",
              "21         TAIWAN\n",
              "4             UAE\n",
              "3              UK\n",
              "0             USA\n",
              "1             NaN\n",
              "dtype: object"
            ]
          },
          "metadata": {},
          "execution_count": 1000
        }
      ]
    },
    {
      "cell_type": "markdown",
      "source": [
        "Asignamos los vacios a un pais que se llama 'No respondio'"
      ],
      "metadata": {
        "id": "3mIZHpgbVMh2"
      }
    },
    {
      "cell_type": "code",
      "source": [
        "df['COUNTRY']=df['COUNTRY'].fillna('NO RESPONDIO')"
      ],
      "metadata": {
        "id": "XUya2FhmUDJp"
      },
      "execution_count": null,
      "outputs": []
    },
    {
      "cell_type": "code",
      "source": [
        "porcentaje_vacios()"
      ],
      "metadata": {
        "colab": {
          "base_uri": "https://localhost:8080/"
        },
        "id": "6garwU5JUDGY",
        "outputId": "c3fb9a5f-21ba-4747-d153-39a8fbcdd695"
      },
      "execution_count": null,
      "outputs": [
        {
          "output_type": "execute_result",
          "data": {
            "text/plain": [
              "GENDER                          0.560748\n",
              "DAY                             0.685358\n",
              "DRESS                           1.682243\n",
              "STATE, PROVINCE, COUNTY, ETC    2.180685\n",
              "GOING OUT?                      3.302181\n",
              "dtype: float64"
            ]
          },
          "metadata": {},
          "execution_count": 1002
        }
      ]
    },
    {
      "cell_type": "markdown",
      "source": [
        "Retomamos el genero"
      ],
      "metadata": {
        "id": "p8FxegPOex4-"
      }
    },
    {
      "cell_type": "code",
      "source": [
        "df['GENDER'].unique()"
      ],
      "metadata": {
        "colab": {
          "base_uri": "https://localhost:8080/"
        },
        "id": "ybFaGxfrUDDh",
        "outputId": "96074c7c-6595-497e-9f80-5154ac1fe4eb"
      },
      "execution_count": null,
      "outputs": [
        {
          "output_type": "execute_result",
          "data": {
            "text/plain": [
              "array(['Male', 'Female', \"I'd rather not say\", 'Other', nan], dtype=object)"
            ]
          },
          "metadata": {},
          "execution_count": 1003
        }
      ]
    },
    {
      "cell_type": "markdown",
      "source": [
        "Llenamos los vacios con la respuesta \"I'd rather not say\" debido a que no lo contestaron\n",
        "\n"
      ],
      "metadata": {
        "id": "9bD1NvY1Vqdq"
      }
    },
    {
      "cell_type": "code",
      "source": [
        "df['GENDER']=df['GENDER'].fillna(\"I'd rather not say\")"
      ],
      "metadata": {
        "id": "mU6ZP0HMUDAc"
      },
      "execution_count": null,
      "outputs": []
    },
    {
      "cell_type": "code",
      "source": [
        "porcentaje_vacios()"
      ],
      "metadata": {
        "colab": {
          "base_uri": "https://localhost:8080/"
        },
        "id": "VXqVuqndWJ2l",
        "outputId": "24f66adb-d5fb-4ea8-8d09-10e24c7bccc9"
      },
      "execution_count": null,
      "outputs": [
        {
          "output_type": "execute_result",
          "data": {
            "text/plain": [
              "DAY                             0.685358\n",
              "DRESS                           1.682243\n",
              "STATE, PROVINCE, COUNTY, ETC    2.180685\n",
              "GOING OUT?                      3.302181\n",
              "dtype: float64"
            ]
          },
          "metadata": {},
          "execution_count": 1005
        }
      ]
    },
    {
      "cell_type": "markdown",
      "source": [
        "Ahora vamos a analizar el estado"
      ],
      "metadata": {
        "id": "y8bMxNiAe3d3"
      }
    },
    {
      "cell_type": "code",
      "source": [
        "df['STATE, PROVINCE, COUNTY, ETC'].isna().sum()"
      ],
      "metadata": {
        "colab": {
          "base_uri": "https://localhost:8080/"
        },
        "id": "Cldj5CGZWMjd",
        "outputId": "df9df710-1ded-4e98-83ca-b022ecb910c3"
      },
      "execution_count": null,
      "outputs": [
        {
          "output_type": "execute_result",
          "data": {
            "text/plain": [
              "35"
            ]
          },
          "metadata": {},
          "execution_count": 1006
        }
      ]
    },
    {
      "cell_type": "code",
      "source": [
        "len(df['STATE, PROVINCE, COUNTY, ETC'].unique())"
      ],
      "metadata": {
        "colab": {
          "base_uri": "https://localhost:8080/"
        },
        "id": "YxWwuzlOWXOn",
        "outputId": "ee7221a3-a363-41e4-9817-18cb5b4539d7"
      },
      "execution_count": null,
      "outputs": [
        {
          "output_type": "execute_result",
          "data": {
            "text/plain": [
              "410"
            ]
          },
          "metadata": {},
          "execution_count": 1007
        }
      ]
    },
    {
      "cell_type": "markdown",
      "source": [
        "Eliminaremos la columna debido a que hay muchos datos únicos y la pregunta es abierta"
      ],
      "metadata": {
        "id": "E4kJ91U3W8vz"
      }
    },
    {
      "cell_type": "code",
      "source": [
        "df.drop(columns=['STATE, PROVINCE, COUNTY, ETC'], inplace=True)"
      ],
      "metadata": {
        "id": "4u-Xxec1W8Wn"
      },
      "execution_count": null,
      "outputs": []
    },
    {
      "cell_type": "code",
      "source": [
        "porcentaje_vacios()"
      ],
      "metadata": {
        "colab": {
          "base_uri": "https://localhost:8080/"
        },
        "id": "nB4k8znyXH5G",
        "outputId": "541fbe16-eb02-4f4c-dae6-103f46d6962b"
      },
      "execution_count": null,
      "outputs": [
        {
          "output_type": "execute_result",
          "data": {
            "text/plain": [
              "DAY           0.685358\n",
              "DRESS         1.682243\n",
              "GOING OUT?    3.302181\n",
              "dtype: float64"
            ]
          },
          "metadata": {},
          "execution_count": 1009
        }
      ]
    },
    {
      "cell_type": "markdown",
      "source": [
        "Decidimos eliminar DAY y DRESS tambien porque son preguntas sarcasticas, eso dice la encuesta"
      ],
      "metadata": {
        "id": "kmNJnj3-XYtM"
      }
    },
    {
      "cell_type": "code",
      "source": [
        "df.drop(columns=['DAY','DRESS'], inplace=True)"
      ],
      "metadata": {
        "id": "zM8OWDIzXYen"
      },
      "execution_count": null,
      "outputs": []
    },
    {
      "cell_type": "code",
      "source": [
        "porcentaje_vacios()"
      ],
      "metadata": {
        "colab": {
          "base_uri": "https://localhost:8080/"
        },
        "id": "GiVLgbBvXs1C",
        "outputId": "d36ac56b-cc4c-464e-921b-471a716a36b1"
      },
      "execution_count": null,
      "outputs": [
        {
          "output_type": "execute_result",
          "data": {
            "text/plain": [
              "GOING OUT?    3.302181\n",
              "dtype: float64"
            ]
          },
          "metadata": {},
          "execution_count": 1011
        }
      ]
    },
    {
      "cell_type": "code",
      "source": [
        "df['GOING OUT?'].unique()"
      ],
      "metadata": {
        "colab": {
          "base_uri": "https://localhost:8080/"
        },
        "id": "nm6lb5wTXv6u",
        "outputId": "1ca0234c-d643-491a-8101-9b9fa548fbad"
      },
      "execution_count": null,
      "outputs": [
        {
          "output_type": "execute_result",
          "data": {
            "text/plain": [
              "array(['No', 'Yes', nan], dtype=object)"
            ]
          },
          "metadata": {},
          "execution_count": 1012
        }
      ]
    },
    {
      "cell_type": "markdown",
      "source": [
        "decidimos dejar los vacios porque los transformaremos en un diccionario y sera como si respondieran no contesto"
      ],
      "metadata": {
        "id": "CbtMwgClfEzZ"
      }
    },
    {
      "cell_type": "code",
      "source": [
        "columnas_object = df.select_dtypes(include=object).columns.tolist()"
      ],
      "metadata": {
        "id": "Qydm1ZvkYISh"
      },
      "execution_count": null,
      "outputs": []
    },
    {
      "cell_type": "code",
      "source": [
        "columnas_object.remove('AGE')"
      ],
      "metadata": {
        "id": "gz6idhqfYVVD"
      },
      "execution_count": null,
      "outputs": []
    },
    {
      "cell_type": "code",
      "source": [
        "columnas_object"
      ],
      "metadata": {
        "colab": {
          "base_uri": "https://localhost:8080/"
        },
        "id": "71J20g4EYlHf",
        "outputId": "67171700-24da-49e4-f9bf-26ed85c7ced1"
      },
      "execution_count": null,
      "outputs": [
        {
          "output_type": "execute_result",
          "data": {
            "text/plain": [
              "['GOING OUT?', 'GENDER', 'COUNTRY']"
            ]
          },
          "metadata": {},
          "execution_count": 1015
        }
      ]
    },
    {
      "cell_type": "markdown",
      "source": [
        "Transformamos las columnas en diccionarios"
      ],
      "metadata": {
        "id": "fIGSj27IfUIK"
      }
    },
    {
      "cell_type": "code",
      "source": [
        "for i in columnas_object :\n",
        "  print(column_to_dictionary(df[i]))\n",
        "  df[i] = df[i].map(column_to_dictionary(df[i]))"
      ],
      "metadata": {
        "colab": {
          "base_uri": "https://localhost:8080/"
        },
        "id": "heo7NtPSXv4F",
        "outputId": "16dfe814-a455-4de8-e8e1-c368f92cff56"
      },
      "execution_count": null,
      "outputs": [
        {
          "output_type": "stream",
          "name": "stdout",
          "text": [
            "{'No': 0, 'Yes': 1, nan: 2}\n",
            "{'Male': 0, 'Female': 1, \"I'd rather not say\": 2, 'Other': 3}\n",
            "{'USA': 0, 'NO RESPONDIO': 1, 'CANADA': 2, 'UK': 3, 'UAE': 4, 'FRANCE': 5, 'MEXICO': 6, 'NETHERLANDS': 7, 'COSTA RICA': 8, 'GREECE': 9, 'IRELAND': 10, 'KOREA': 11, 'AUSTRALIA': 12, 'JAPAN': 13, 'ICELAND': 14, 'SCOTLAND': 15, 'DENMARK': 16, 'SWITZERLAND': 17, 'SOUTH KOREA': 18, 'GERMANY': 19, 'SINGAPORE': 20, 'TAIWAN': 21, 'CHINA': 22, 'SPAIN': 23}\n"
          ]
        }
      ]
    },
    {
      "cell_type": "code",
      "source": [],
      "metadata": {
        "id": "bcy6ntegfbxV"
      },
      "execution_count": null,
      "outputs": []
    },
    {
      "cell_type": "code",
      "source": [
        "df.select_dtypes(include=object).columns.tolist()"
      ],
      "metadata": {
        "colab": {
          "base_uri": "https://localhost:8080/"
        },
        "id": "M5utoWVAXv1k",
        "outputId": "840cd646-5b66-4df8-d3b3-aa223e7d2fad"
      },
      "execution_count": null,
      "outputs": [
        {
          "output_type": "execute_result",
          "data": {
            "text/plain": [
              "['AGE']"
            ]
          },
          "metadata": {},
          "execution_count": 1017
        }
      ]
    },
    {
      "cell_type": "markdown",
      "source": [
        "solo queda la edad y la transformamos en tipo de dato int"
      ],
      "metadata": {
        "id": "oMB5E9L0fZGy"
      }
    },
    {
      "cell_type": "code",
      "source": [
        "df['AGE'] = df['AGE'].astype(int)"
      ],
      "metadata": {
        "id": "2wqpiKmaXvzc"
      },
      "execution_count": null,
      "outputs": []
    },
    {
      "cell_type": "markdown",
      "source": [
        "Verificamos que no queden columnas vacias "
      ],
      "metadata": {
        "id": "Spby4Gm0ZJGz"
      }
    },
    {
      "cell_type": "code",
      "source": [
        "porcentaje_vacios()"
      ],
      "metadata": {
        "colab": {
          "base_uri": "https://localhost:8080/"
        },
        "id": "drtncKFvY8-u",
        "outputId": "8b892407-be22-4c3e-eb8c-bb53a71018a3"
      },
      "execution_count": null,
      "outputs": [
        {
          "output_type": "execute_result",
          "data": {
            "text/plain": [
              "Series([], dtype: float64)"
            ]
          },
          "metadata": {},
          "execution_count": 1019
        }
      ]
    },
    {
      "cell_type": "markdown",
      "source": [
        "verificamos que no queden columnas de otro tipo que no sean int"
      ],
      "metadata": {
        "id": "JtUzxD97ZNJ8"
      }
    },
    {
      "cell_type": "code",
      "source": [
        "len(df.select_dtypes(include=int).columns.tolist()) - df.shape[1]"
      ],
      "metadata": {
        "colab": {
          "base_uri": "https://localhost:8080/"
        },
        "id": "t-eN59mjZRQS",
        "outputId": "f0fa9091-79ef-4fa8-da0c-1f208d6a3768"
      },
      "execution_count": null,
      "outputs": [
        {
          "output_type": "execute_result",
          "data": {
            "text/plain": [
              "0"
            ]
          },
          "metadata": {},
          "execution_count": 1020
        }
      ]
    },
    {
      "cell_type": "markdown",
      "source": [
        "Tenemos nuestro dataset listo para trabajarlo y responder las preguntas"
      ],
      "metadata": {
        "id": "ToYIXO18Zhbg"
      }
    },
    {
      "cell_type": "code",
      "source": [
        "df.head()"
      ],
      "metadata": {
        "colab": {
          "base_uri": "https://localhost:8080/",
          "height": 490
        },
        "id": "nWiH66_Wf70i",
        "outputId": "a8992a79-fe73-4795-e402-abacf2f66ecc"
      },
      "execution_count": null,
      "outputs": [
        {
          "output_type": "execute_result",
          "data": {
            "text/plain": [
              "   GOING OUT?  GENDER  AGE  COUNTRY  100 Grand Bar  \\\n",
              "1           0       0   44        0              0   \n",
              "3           0       0   40        0              0   \n",
              "4           0       0   23        0              1   \n",
              "5           0       0   43        1              1   \n",
              "7           0       0   33        2              1   \n",
              "\n",
              "   Anonymous brown globs that come in black and orange wrappers\\t(a.k.a. Mary Janes)  \\\n",
              "1                                                  3                                   \n",
              "3                                                  3                                   \n",
              "4                                                  3                                   \n",
              "5                                                  3                                   \n",
              "7                                                  3                                   \n",
              "\n",
              "   Any full-sized candy bar  Black Jacks  Bonkers (the candy)  \\\n",
              "1                         1            0                    3   \n",
              "3                         1            0                    0   \n",
              "4                         1            3                    0   \n",
              "5                         1            2                    2   \n",
              "7                         1            3                    3   \n",
              "\n",
              "   Bonkers (the board game)  ...  Three Musketeers  \\\n",
              "1                         3  ...                 1   \n",
              "3                         3  ...                 3   \n",
              "4                         3  ...                 1   \n",
              "5                         2  ...                 1   \n",
              "7                         0  ...                 1   \n",
              "\n",
              "   Tolberone something or other  Trail Mix  Twix  \\\n",
              "1                             1          3     1   \n",
              "3                             1          0     1   \n",
              "4                             1          3     1   \n",
              "5                             1          0     1   \n",
              "7                             0          3     1   \n",
              "\n",
              "   Vials of pure high fructose corn syrup, for main-lining into your vein  \\\n",
              "1                                                  3                        \n",
              "3                                                  3                        \n",
              "4                                                  0                        \n",
              "5                                                  3                        \n",
              "7                                                  1                        \n",
              "\n",
              "   Vicodin  Whatchamacallit Bars  White Bread  Whole Wheat anything  \\\n",
              "1        3                     3            3                     3   \n",
              "3        1                     1            3                     3   \n",
              "4        1                     1            3                     3   \n",
              "5        3                     1            3                     3   \n",
              "7        0                     3            3                     3   \n",
              "\n",
              "   York Peppermint Patties  \n",
              "1                        3  \n",
              "3                        3  \n",
              "4                        1  \n",
              "5                        1  \n",
              "7                        3  \n",
              "\n",
              "[5 rows x 107 columns]"
            ],
            "text/html": [
              "\n",
              "  <div id=\"df-acb578a1-e4e4-417d-b5a2-f024ad4e42b8\">\n",
              "    <div class=\"colab-df-container\">\n",
              "      <div>\n",
              "<style scoped>\n",
              "    .dataframe tbody tr th:only-of-type {\n",
              "        vertical-align: middle;\n",
              "    }\n",
              "\n",
              "    .dataframe tbody tr th {\n",
              "        vertical-align: top;\n",
              "    }\n",
              "\n",
              "    .dataframe thead th {\n",
              "        text-align: right;\n",
              "    }\n",
              "</style>\n",
              "<table border=\"1\" class=\"dataframe\">\n",
              "  <thead>\n",
              "    <tr style=\"text-align: right;\">\n",
              "      <th></th>\n",
              "      <th>GOING OUT?</th>\n",
              "      <th>GENDER</th>\n",
              "      <th>AGE</th>\n",
              "      <th>COUNTRY</th>\n",
              "      <th>100 Grand Bar</th>\n",
              "      <th>Anonymous brown globs that come in black and orange wrappers\\t(a.k.a. Mary Janes)</th>\n",
              "      <th>Any full-sized candy bar</th>\n",
              "      <th>Black Jacks</th>\n",
              "      <th>Bonkers (the candy)</th>\n",
              "      <th>Bonkers (the board game)</th>\n",
              "      <th>...</th>\n",
              "      <th>Three Musketeers</th>\n",
              "      <th>Tolberone something or other</th>\n",
              "      <th>Trail Mix</th>\n",
              "      <th>Twix</th>\n",
              "      <th>Vials of pure high fructose corn syrup, for main-lining into your vein</th>\n",
              "      <th>Vicodin</th>\n",
              "      <th>Whatchamacallit Bars</th>\n",
              "      <th>White Bread</th>\n",
              "      <th>Whole Wheat anything</th>\n",
              "      <th>York Peppermint Patties</th>\n",
              "    </tr>\n",
              "  </thead>\n",
              "  <tbody>\n",
              "    <tr>\n",
              "      <th>1</th>\n",
              "      <td>0</td>\n",
              "      <td>0</td>\n",
              "      <td>44</td>\n",
              "      <td>0</td>\n",
              "      <td>0</td>\n",
              "      <td>3</td>\n",
              "      <td>1</td>\n",
              "      <td>0</td>\n",
              "      <td>3</td>\n",
              "      <td>3</td>\n",
              "      <td>...</td>\n",
              "      <td>1</td>\n",
              "      <td>1</td>\n",
              "      <td>3</td>\n",
              "      <td>1</td>\n",
              "      <td>3</td>\n",
              "      <td>3</td>\n",
              "      <td>3</td>\n",
              "      <td>3</td>\n",
              "      <td>3</td>\n",
              "      <td>3</td>\n",
              "    </tr>\n",
              "    <tr>\n",
              "      <th>3</th>\n",
              "      <td>0</td>\n",
              "      <td>0</td>\n",
              "      <td>40</td>\n",
              "      <td>0</td>\n",
              "      <td>0</td>\n",
              "      <td>3</td>\n",
              "      <td>1</td>\n",
              "      <td>0</td>\n",
              "      <td>0</td>\n",
              "      <td>3</td>\n",
              "      <td>...</td>\n",
              "      <td>3</td>\n",
              "      <td>1</td>\n",
              "      <td>0</td>\n",
              "      <td>1</td>\n",
              "      <td>3</td>\n",
              "      <td>1</td>\n",
              "      <td>1</td>\n",
              "      <td>3</td>\n",
              "      <td>3</td>\n",
              "      <td>3</td>\n",
              "    </tr>\n",
              "    <tr>\n",
              "      <th>4</th>\n",
              "      <td>0</td>\n",
              "      <td>0</td>\n",
              "      <td>23</td>\n",
              "      <td>0</td>\n",
              "      <td>1</td>\n",
              "      <td>3</td>\n",
              "      <td>1</td>\n",
              "      <td>3</td>\n",
              "      <td>0</td>\n",
              "      <td>3</td>\n",
              "      <td>...</td>\n",
              "      <td>1</td>\n",
              "      <td>1</td>\n",
              "      <td>3</td>\n",
              "      <td>1</td>\n",
              "      <td>0</td>\n",
              "      <td>1</td>\n",
              "      <td>1</td>\n",
              "      <td>3</td>\n",
              "      <td>3</td>\n",
              "      <td>1</td>\n",
              "    </tr>\n",
              "    <tr>\n",
              "      <th>5</th>\n",
              "      <td>0</td>\n",
              "      <td>0</td>\n",
              "      <td>43</td>\n",
              "      <td>1</td>\n",
              "      <td>1</td>\n",
              "      <td>3</td>\n",
              "      <td>1</td>\n",
              "      <td>2</td>\n",
              "      <td>2</td>\n",
              "      <td>2</td>\n",
              "      <td>...</td>\n",
              "      <td>1</td>\n",
              "      <td>1</td>\n",
              "      <td>0</td>\n",
              "      <td>1</td>\n",
              "      <td>3</td>\n",
              "      <td>3</td>\n",
              "      <td>1</td>\n",
              "      <td>3</td>\n",
              "      <td>3</td>\n",
              "      <td>1</td>\n",
              "    </tr>\n",
              "    <tr>\n",
              "      <th>7</th>\n",
              "      <td>0</td>\n",
              "      <td>0</td>\n",
              "      <td>33</td>\n",
              "      <td>2</td>\n",
              "      <td>1</td>\n",
              "      <td>3</td>\n",
              "      <td>1</td>\n",
              "      <td>3</td>\n",
              "      <td>3</td>\n",
              "      <td>0</td>\n",
              "      <td>...</td>\n",
              "      <td>1</td>\n",
              "      <td>0</td>\n",
              "      <td>3</td>\n",
              "      <td>1</td>\n",
              "      <td>1</td>\n",
              "      <td>0</td>\n",
              "      <td>3</td>\n",
              "      <td>3</td>\n",
              "      <td>3</td>\n",
              "      <td>3</td>\n",
              "    </tr>\n",
              "  </tbody>\n",
              "</table>\n",
              "<p>5 rows × 107 columns</p>\n",
              "</div>\n",
              "      <button class=\"colab-df-convert\" onclick=\"convertToInteractive('df-acb578a1-e4e4-417d-b5a2-f024ad4e42b8')\"\n",
              "              title=\"Convert this dataframe to an interactive table.\"\n",
              "              style=\"display:none;\">\n",
              "        \n",
              "  <svg xmlns=\"http://www.w3.org/2000/svg\" height=\"24px\"viewBox=\"0 0 24 24\"\n",
              "       width=\"24px\">\n",
              "    <path d=\"M0 0h24v24H0V0z\" fill=\"none\"/>\n",
              "    <path d=\"M18.56 5.44l.94 2.06.94-2.06 2.06-.94-2.06-.94-.94-2.06-.94 2.06-2.06.94zm-11 1L8.5 8.5l.94-2.06 2.06-.94-2.06-.94L8.5 2.5l-.94 2.06-2.06.94zm10 10l.94 2.06.94-2.06 2.06-.94-2.06-.94-.94-2.06-.94 2.06-2.06.94z\"/><path d=\"M17.41 7.96l-1.37-1.37c-.4-.4-.92-.59-1.43-.59-.52 0-1.04.2-1.43.59L10.3 9.45l-7.72 7.72c-.78.78-.78 2.05 0 2.83L4 21.41c.39.39.9.59 1.41.59.51 0 1.02-.2 1.41-.59l7.78-7.78 2.81-2.81c.8-.78.8-2.07 0-2.86zM5.41 20L4 18.59l7.72-7.72 1.47 1.35L5.41 20z\"/>\n",
              "  </svg>\n",
              "      </button>\n",
              "      \n",
              "  <style>\n",
              "    .colab-df-container {\n",
              "      display:flex;\n",
              "      flex-wrap:wrap;\n",
              "      gap: 12px;\n",
              "    }\n",
              "\n",
              "    .colab-df-convert {\n",
              "      background-color: #E8F0FE;\n",
              "      border: none;\n",
              "      border-radius: 50%;\n",
              "      cursor: pointer;\n",
              "      display: none;\n",
              "      fill: #1967D2;\n",
              "      height: 32px;\n",
              "      padding: 0 0 0 0;\n",
              "      width: 32px;\n",
              "    }\n",
              "\n",
              "    .colab-df-convert:hover {\n",
              "      background-color: #E2EBFA;\n",
              "      box-shadow: 0px 1px 2px rgba(60, 64, 67, 0.3), 0px 1px 3px 1px rgba(60, 64, 67, 0.15);\n",
              "      fill: #174EA6;\n",
              "    }\n",
              "\n",
              "    [theme=dark] .colab-df-convert {\n",
              "      background-color: #3B4455;\n",
              "      fill: #D2E3FC;\n",
              "    }\n",
              "\n",
              "    [theme=dark] .colab-df-convert:hover {\n",
              "      background-color: #434B5C;\n",
              "      box-shadow: 0px 1px 3px 1px rgba(0, 0, 0, 0.15);\n",
              "      filter: drop-shadow(0px 1px 2px rgba(0, 0, 0, 0.3));\n",
              "      fill: #FFFFFF;\n",
              "    }\n",
              "  </style>\n",
              "\n",
              "      <script>\n",
              "        const buttonEl =\n",
              "          document.querySelector('#df-acb578a1-e4e4-417d-b5a2-f024ad4e42b8 button.colab-df-convert');\n",
              "        buttonEl.style.display =\n",
              "          google.colab.kernel.accessAllowed ? 'block' : 'none';\n",
              "\n",
              "        async function convertToInteractive(key) {\n",
              "          const element = document.querySelector('#df-acb578a1-e4e4-417d-b5a2-f024ad4e42b8');\n",
              "          const dataTable =\n",
              "            await google.colab.kernel.invokeFunction('convertToInteractive',\n",
              "                                                     [key], {});\n",
              "          if (!dataTable) return;\n",
              "\n",
              "          const docLinkHtml = 'Like what you see? Visit the ' +\n",
              "            '<a target=\"_blank\" href=https://colab.research.google.com/notebooks/data_table.ipynb>data table notebook</a>'\n",
              "            + ' to learn more about interactive tables.';\n",
              "          element.innerHTML = '';\n",
              "          dataTable['output_type'] = 'display_data';\n",
              "          await google.colab.output.renderOutput(dataTable, element);\n",
              "          const docLink = document.createElement('div');\n",
              "          docLink.innerHTML = docLinkHtml;\n",
              "          element.appendChild(docLink);\n",
              "        }\n",
              "      </script>\n",
              "    </div>\n",
              "  </div>\n",
              "  "
            ]
          },
          "metadata": {},
          "execution_count": 1021
        }
      ]
    },
    {
      "cell_type": "markdown",
      "source": [
        "# Respuestas a las preguntas planteadas"
      ],
      "metadata": {
        "id": "D2CWFb5boW3w"
      }
    },
    {
      "cell_type": "markdown",
      "source": [
        "## ¿Cuál es el dulce que más le gusta a las personas?"
      ],
      "metadata": {
        "id": "fsNNMvdtoYyl"
      }
    },
    {
      "cell_type": "code",
      "source": [
        "series_name"
      ],
      "metadata": {
        "colab": {
          "base_uri": "https://localhost:8080/"
        },
        "id": "tPskS99kpYvS",
        "outputId": "1cbdc4b6-5b19-4374-8fad-0e4a92d18844"
      },
      "execution_count": null,
      "outputs": [
        {
          "output_type": "execute_result",
          "data": {
            "text/plain": [
              "{'MEH': 0, 'JOY': 1, 'NC': 2, 'DESPAIR': 3}"
            ]
          },
          "metadata": {},
          "execution_count": 1022
        }
      ]
    },
    {
      "cell_type": "markdown",
      "source": [
        "Buscaremos cual es el que tiene mas JOY"
      ],
      "metadata": {
        "id": "WgYm5_ZDp6ax"
      }
    },
    {
      "cell_type": "code",
      "source": [
        "dulces_mas_queridos = df[df[columnas_pregunta_6] == 1][columnas_pregunta_6].count().sort_values(ascending=False)"
      ],
      "metadata": {
        "id": "nGELTFyKoqsp"
      },
      "execution_count": null,
      "outputs": []
    },
    {
      "cell_type": "code",
      "source": [
        "print('Los dulces que producen mayor felicidad son:',dulces_mas_queridos[0:1].index[0],\"con\",dulces_mas_queridos[0:1][0],\"respuestas\")"
      ],
      "metadata": {
        "colab": {
          "base_uri": "https://localhost:8080/"
        },
        "id": "hzstcRo9qVP-",
        "outputId": "c978aae5-b117-4ef5-9f81-9a0108a967f6"
      },
      "execution_count": null,
      "outputs": [
        {
          "output_type": "stream",
          "name": "stdout",
          "text": [
            "Los dulces que producen mayor felicidad son: Any full-sized candy bar con 1395 respuestas\n"
          ]
        }
      ]
    },
    {
      "cell_type": "markdown",
      "source": [
        "## ¿Hay dulces que le gusten más a cierto rango de edad?"
      ],
      "metadata": {
        "id": "SP5Ywg56ogdd"
      }
    },
    {
      "cell_type": "code",
      "source": [
        "rangos_edad = [(0,10),(11,20),(21,30),(31,40),(41,50),(51,60),(61,70),(71,80),(81,90),(91,150)]"
      ],
      "metadata": {
        "id": "MKk6vFN9tV4U"
      },
      "execution_count": null,
      "outputs": []
    },
    {
      "cell_type": "code",
      "source": [
        "for i in rangos_edad:\n",
        "  edades = df[(df['AGE']>=i[0])&(df['AGE']<=i[1])].copy()\n",
        "  \n",
        "  dulces_mas_queridos_por_edad = edades[edades[columnas_pregunta_6] == 1][columnas_pregunta_6].count().sort_values(ascending=False)\n",
        "  print('Los dulces que producen mayor felicidad para las edades entre [',i[0],' y ',i[1],'] son:',dulces_mas_queridos_por_edad[0:1].index[0],\"con\",dulces_mas_queridos_por_edad[0:1][0],\"respuestas\")"
      ],
      "metadata": {
        "colab": {
          "base_uri": "https://localhost:8080/"
        },
        "id": "GzWzMEOBtVyy",
        "outputId": "9f952f4b-4ee6-4907-9ab1-b3cb40b73c0e"
      },
      "execution_count": null,
      "outputs": [
        {
          "output_type": "stream",
          "name": "stdout",
          "text": [
            "Los dulces que producen mayor felicidad para las edades entre [ 0  y  10 ] son: Cash, or other forms of legal tender con 8 respuestas\n",
            "Los dulces que producen mayor felicidad para las edades entre [ 11  y  20 ] son: Cash, or other forms of legal tender con 36 respuestas\n",
            "Los dulces que producen mayor felicidad para las edades entre [ 21  y  30 ] son: Any full-sized candy bar con 144 respuestas\n",
            "Los dulces que producen mayor felicidad para las edades entre [ 31  y  40 ] son: Any full-sized candy bar con 430 respuestas\n",
            "Los dulces que producen mayor felicidad para las edades entre [ 41  y  50 ] son: Any full-sized candy bar con 469 respuestas\n",
            "Los dulces que producen mayor felicidad para las edades entre [ 51  y  60 ] son: ReeseÕs Peanut Butter Cups con 227 respuestas\n",
            "Los dulces que producen mayor felicidad para las edades entre [ 61  y  70 ] son: Any full-sized candy bar con 72 respuestas\n",
            "Los dulces que producen mayor felicidad para las edades entre [ 71  y  80 ] son: Cash, or other forms of legal tender con 12 respuestas\n",
            "Los dulces que producen mayor felicidad para las edades entre [ 81  y  90 ] son: York Peppermint Patties con 3 respuestas\n",
            "Los dulces que producen mayor felicidad para las edades entre [ 91  y  150 ] son: Any full-sized candy bar con 3 respuestas\n"
          ]
        }
      ]
    },
    {
      "cell_type": "markdown",
      "source": [
        "## ¿Cuál dulce le gusta más a los hombres?\n"
      ],
      "metadata": {
        "id": "UpSgkNz9ogZC"
      }
    },
    {
      "cell_type": "markdown",
      "source": [
        "{'Male': 0, 'Female': 1, \"I'd rather not say\": 2, 'Other': 3}\n"
      ],
      "metadata": {
        "id": "2mJIcFTHrRLj"
      }
    },
    {
      "cell_type": "code",
      "source": [
        "hombres=df[df['GENDER']==0].copy()"
      ],
      "metadata": {
        "id": "A7yW81kkq1El"
      },
      "execution_count": null,
      "outputs": []
    },
    {
      "cell_type": "code",
      "source": [
        "dulces_mas_queridos_por_hombres = hombres[hombres[columnas_pregunta_6] == 1][columnas_pregunta_6].count().sort_values(ascending=False)"
      ],
      "metadata": {
        "id": "IhtmBMAQq08O"
      },
      "execution_count": null,
      "outputs": []
    },
    {
      "cell_type": "code",
      "source": [
        "print('Los dulces que producen mayor felicidad a los hombres son:',dulces_mas_queridos_por_hombres[0:1].index[0],\"con\",dulces_mas_queridos_por_hombres[0:1][0],\"respuestas\")"
      ],
      "metadata": {
        "colab": {
          "base_uri": "https://localhost:8080/"
        },
        "id": "W7_zc2wgrf3Q",
        "outputId": "3f7699a7-c534-42ab-c3f2-5e19d7d64b5f"
      },
      "execution_count": null,
      "outputs": [
        {
          "output_type": "stream",
          "name": "stdout",
          "text": [
            "Los dulces que producen mayor felicidad a los hombres son: Any full-sized candy bar con 843 respuestas\n"
          ]
        }
      ]
    },
    {
      "cell_type": "markdown",
      "source": [
        "## ¿Cuál dulce le gusta más a las mujeres?"
      ],
      "metadata": {
        "id": "Ka2knIlbogWf"
      }
    },
    {
      "cell_type": "code",
      "source": [
        "mujeres=df[df['GENDER']==1].copy()"
      ],
      "metadata": {
        "id": "1kSz7LthopfV"
      },
      "execution_count": null,
      "outputs": []
    },
    {
      "cell_type": "code",
      "source": [
        "dulces_mas_queridos_por_mujeres = mujeres[mujeres[columnas_pregunta_6] == 1][columnas_pregunta_6].count().sort_values(ascending=False)"
      ],
      "metadata": {
        "id": "-w5U37BFrqXS"
      },
      "execution_count": null,
      "outputs": []
    },
    {
      "cell_type": "code",
      "source": [
        "print('Los dulces que producen mayor felicidad a los mujeres son:',dulces_mas_queridos_por_mujeres[0:1].index[0],\"con\",dulces_mas_queridos_por_mujeres[0:1][0],\"respuestas\")"
      ],
      "metadata": {
        "colab": {
          "base_uri": "https://localhost:8080/"
        },
        "id": "C-_PU71KrqVI",
        "outputId": "8fd009f5-a1a8-42dc-e363-ece101d77a78"
      },
      "execution_count": null,
      "outputs": [
        {
          "output_type": "stream",
          "name": "stdout",
          "text": [
            "Los dulces que producen mayor felicidad a los mujeres son: Any full-sized candy bar con 483 respuestas\n"
          ]
        }
      ]
    },
    {
      "cell_type": "markdown",
      "source": [
        "## ¿Cuales son el top 5 de dulces en estados unidos?"
      ],
      "metadata": {
        "id": "Vyl_2bxeogUN"
      }
    },
    {
      "cell_type": "markdown",
      "source": [
        "{'USA': 0, 'NO RESPONDIO': 1, 'CANADA': 2, 'UK': 3, 'UAE': 4, 'FRANCE': 5, 'MEXICO': 6, 'NETHERLANDS': 7, 'COSTA RICA': 8, 'GREECE': 9, 'IRELAND': 10, 'KOREA': 11, 'AUSTRALIA': 12, 'JAPAN': 13, 'ICELAND': 14, 'SCOTLAND': 15, 'DENMARK': 16, 'SWITZERLAND': 17, 'SOUTH KOREA': 18, 'GERMANY': 19, 'SINGAPORE': 20, 'TAIWAN': 21, 'CHINA': 22, 'SPAIN': 23}"
      ],
      "metadata": {
        "id": "ne4GEH7Ur3As"
      }
    },
    {
      "cell_type": "code",
      "source": [
        "usa = df[df['COUNTRY']==0].copy()"
      ],
      "metadata": {
        "id": "x-ZSchG_r_iJ"
      },
      "execution_count": null,
      "outputs": []
    },
    {
      "cell_type": "code",
      "source": [
        "dulces_mas_queridos_de_usa = usa[usa[columnas_pregunta_6] == 1][columnas_pregunta_6].count().sort_values(ascending=False)\n",
        "print('Los 5 dulces que producen mayor felicidad a USA son:')\n",
        "for i in range(0,5):\n",
        "  print((i+1),'.-',dulces_mas_queridos_de_usa[i:i+1].index[0],\"con\",dulces_mas_queridos_de_usa[i:i+1][0],\"respuestas\")"
      ],
      "metadata": {
        "colab": {
          "base_uri": "https://localhost:8080/"
        },
        "id": "98LZPU6YsFC0",
        "outputId": "f028adfd-9473-447b-9d32-8497ae0a0d6d"
      },
      "execution_count": null,
      "outputs": [
        {
          "output_type": "stream",
          "name": "stdout",
          "text": [
            "Los 5 dulces que producen mayor felicidad a USA son:\n",
            "1 .- Any full-sized candy bar con 1191 respuestas\n",
            "2 .- ReeseÕs Peanut Butter Cups con 1138 respuestas\n",
            "3 .- Kit Kat con 1106 respuestas\n",
            "4 .- Twix con 1101 respuestas\n",
            "5 .- Cash, or other forms of legal tender con 1096 respuestas\n"
          ]
        }
      ]
    },
    {
      "cell_type": "markdown",
      "source": [
        "## ¿Podremos obtener información de los dulces de otros paises?"
      ],
      "metadata": {
        "id": "E1vMTzotogRl"
      }
    },
    {
      "cell_type": "code",
      "source": [
        "paises = {'USA': 0, 'NO RESPONDIO': 1, 'CANADA': 2, 'UK': 3, 'UAE': 4, 'FRANCE': 5, 'MEXICO': 6, 'NETHERLANDS': 7, 'COSTA RICA': 8, 'GREECE': 9, 'IRELAND': 10, 'KOREA': 11, 'AUSTRALIA': 12, 'JAPAN': 13, 'ICELAND': 14, 'SCOTLAND': 15, 'DENMARK': 16, 'SWITZERLAND': 17, 'SOUTH KOREA': 18, 'GERMANY': 19, 'SINGAPORE': 20, 'TAIWAN': 21, 'CHINA': 22, 'SPAIN': 23}"
      ],
      "metadata": {
        "id": "LtVfIBvhsPoR"
      },
      "execution_count": null,
      "outputs": []
    },
    {
      "cell_type": "code",
      "source": [
        "def dulces_paises(valor, indice):\n",
        "  pais = usa = df[df['COUNTRY']==indice].copy()\n",
        "  dulces_mas_queridos_de_pais = pais[pais[columnas_pregunta_6] == 1][columnas_pregunta_6].count().sort_values(ascending=False)\n",
        "  print('* Los dulces que producen mayor felicidad a',valor,'son:',dulces_mas_queridos_de_pais[0:1].index[0],\"con\",dulces_mas_queridos_de_pais[0:1][0],\"respuestas\")"
      ],
      "metadata": {
        "id": "YOZdrFNHs292"
      },
      "execution_count": null,
      "outputs": []
    },
    {
      "cell_type": "code",
      "source": [
        "{dulces_paises(val,x) for x, val in enumerate(paises)}"
      ],
      "metadata": {
        "colab": {
          "base_uri": "https://localhost:8080/"
        },
        "id": "5JBU-KnDsXEc",
        "outputId": "ea2d32ef-35e4-4da1-e51f-5a5e9f9b72d3"
      },
      "execution_count": null,
      "outputs": [
        {
          "output_type": "stream",
          "name": "stdout",
          "text": [
            "* Los dulces que producen mayor felicidad a USA son: Any full-sized candy bar con 1191 respuestas\n",
            "* Los dulces que producen mayor felicidad a NO RESPONDIO son: Any full-sized candy bar con 22 respuestas\n",
            "* Los dulces que producen mayor felicidad a CANADA son: Any full-sized candy bar con 132 respuestas\n",
            "* Los dulces que producen mayor felicidad a UK son: Rolos con 17 respuestas\n",
            "* Los dulces que producen mayor felicidad a UAE son: Skittles con 1 respuestas\n",
            "* Los dulces que producen mayor felicidad a FRANCE son: Milky Way con 3 respuestas\n",
            "* Los dulces que producen mayor felicidad a MEXICO son: Pixy Stix con 2 respuestas\n",
            "* Los dulces que producen mayor felicidad a NETHERLANDS son: Smarties (Commonwealth) con 3 respuestas\n",
            "* Los dulces que producen mayor felicidad a COSTA RICA son: 100 Grand Bar con 1 respuestas\n",
            "* Los dulces que producen mayor felicidad a GREECE son: York Peppermint Patties con 1 respuestas\n",
            "* Los dulces que producen mayor felicidad a IRELAND son: Nestle Crunch con 2 respuestas\n",
            "* Los dulces que producen mayor felicidad a KOREA son: 100 Grand Bar con 1 respuestas\n",
            "* Los dulces que producen mayor felicidad a AUSTRALIA son: Cash, or other forms of legal tender con 2 respuestas\n",
            "* Los dulces que producen mayor felicidad a JAPAN son: Twix con 3 respuestas\n",
            "* Los dulces que producen mayor felicidad a ICELAND son: Mars con 1 respuestas\n",
            "* Los dulces que producen mayor felicidad a SCOTLAND son: Mars con 3 respuestas\n",
            "* Los dulces que producen mayor felicidad a DENMARK son: Mars con 2 respuestas\n",
            "* Los dulces que producen mayor felicidad a SWITZERLAND son: Regular M&Ms con 2 respuestas\n",
            "* Los dulces que producen mayor felicidad a SOUTH KOREA son: 100 Grand Bar con 1 respuestas\n",
            "* Los dulces que producen mayor felicidad a GERMANY son: Any full-sized candy bar con 5 respuestas\n",
            "* Los dulces que producen mayor felicidad a SINGAPORE son: Milky Way con 1 respuestas\n",
            "* Los dulces que producen mayor felicidad a TAIWAN son: 100 Grand Bar con 1 respuestas\n",
            "* Los dulces que producen mayor felicidad a CHINA son: Licorice (yes black) con 1 respuestas\n",
            "* Los dulces que producen mayor felicidad a SPAIN son: 100 Grand Bar con 1 respuestas\n"
          ]
        },
        {
          "output_type": "execute_result",
          "data": {
            "text/plain": [
              "{None}"
            ]
          },
          "metadata": {},
          "execution_count": 1045
        }
      ]
    }
  ]
}